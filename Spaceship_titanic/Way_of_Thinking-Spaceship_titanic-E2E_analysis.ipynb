{
 "cells": [
  {
   "cell_type": "code",
   "execution_count": 153,
   "metadata": {},
   "outputs": [],
   "source": [
    "#!pip install pandas seaborn sklearn matplotlib"
   ]
  },
  {
   "cell_type": "markdown",
   "metadata": {},
   "source": [
    "#### Notebook follows the crisp approach\n",
    "The **CR**oss **I**ndustry **S**tandard **P**rocess for **D**ata **M**ining (CRISP-DM) is a process model that serves as the base for a data science process. It has six sequential phases:\n",
    "\n",
    "1. Business understanding – What does the business need?\n",
    "2. Data understanding – What data do we have / need? Is it clean?\n",
    "3. Data preparation – How do we organize the data for modeling?\n",
    "4. Modeling – What modeling techniques should we apply?\n",
    "5. Evaluation – Which model best meets the business objectives?\n",
    "6. Deployment – How do stakeholders access the results?"
   ]
  },
  {
   "cell_type": "markdown",
   "metadata": {},
   "source": [
    "# 1. Business understanding"
   ]
  },
  {
   "cell_type": "markdown",
   "metadata": {},
   "source": [
    "### GOAL: predict whether a passenger was transported to an alternate dimension during the Spaceship Titanic's collision with the spacetime anomaly. \n",
    "### Columns:\n",
    "- **PassengerId** - A unique Id for each passenger. Each Id takes the form gggg_pp where gggg indicates a group the passenger is travelling with and pp is their number within the group. People in a group are often family members, but not always.\n",
    "- **HomePlanet** - The planet the passenger departed from, typically their planet of permanent residence.\n",
    "- **CryoSleep** - Indicates whether the passenger elected to be put into suspended animation for the duration of the voyage. Passengers in cryosleep are confined to their cabins.\n",
    "- **Cabin** - The cabin number where the passenger is staying. Takes the form deck/num/side, where side can be either P for Port or S for Starboard.\n",
    "- **Destination** - The planet the passenger will be debarking to.\n",
    "- **Age** - The age of the passenger.\n",
    "- **VIP** - Whether the passenger has paid for special VIP service during the voyage.\n",
    "- **RoomService, FoodCourt, ShoppingMall, Spa, VRDeck** - Amount the passenger has billed at each of the Spaceship Titanic's many luxury amenities.\n",
    "- **Name** - The first and last names of the passenger.\n",
    "- **Transported** - Whether the passenger was transported to another dimension. This is the target, the column you are trying to predict."
   ]
  },
  {
   "cell_type": "code",
   "execution_count": 308,
   "metadata": {},
   "outputs": [],
   "source": [
    "import pandas as pd\n",
    "import seaborn as sns\n",
    "import matplotlib.pyplot as plt\n",
    "import os\n",
    "import numpy as np\n",
    "from pickle import dump, load\n",
    "import math\n",
    "\n",
    "from pandas.api.types import is_numeric_dtype  "
   ]
  },
  {
   "cell_type": "markdown",
   "metadata": {},
   "source": [
    "# 2. Data understanding"
   ]
  },
  {
   "cell_type": "code",
   "execution_count": 155,
   "metadata": {},
   "outputs": [],
   "source": [
    "df = pd.read_csv(os.path.join(\"data\",\"raw\",\"train.csv\"))"
   ]
  },
  {
   "cell_type": "code",
   "execution_count": 156,
   "metadata": {},
   "outputs": [
    {
     "data": {
      "text/html": [
       "<div>\n",
       "<style scoped>\n",
       "    .dataframe tbody tr th:only-of-type {\n",
       "        vertical-align: middle;\n",
       "    }\n",
       "\n",
       "    .dataframe tbody tr th {\n",
       "        vertical-align: top;\n",
       "    }\n",
       "\n",
       "    .dataframe thead th {\n",
       "        text-align: right;\n",
       "    }\n",
       "</style>\n",
       "<table border=\"1\" class=\"dataframe\">\n",
       "  <thead>\n",
       "    <tr style=\"text-align: right;\">\n",
       "      <th></th>\n",
       "      <th>PassengerId</th>\n",
       "      <th>HomePlanet</th>\n",
       "      <th>CryoSleep</th>\n",
       "      <th>Cabin</th>\n",
       "      <th>Destination</th>\n",
       "      <th>Age</th>\n",
       "      <th>VIP</th>\n",
       "      <th>RoomService</th>\n",
       "      <th>FoodCourt</th>\n",
       "      <th>ShoppingMall</th>\n",
       "      <th>Spa</th>\n",
       "      <th>VRDeck</th>\n",
       "      <th>Name</th>\n",
       "      <th>Transported</th>\n",
       "    </tr>\n",
       "  </thead>\n",
       "  <tbody>\n",
       "    <tr>\n",
       "      <th>0</th>\n",
       "      <td>0001_01</td>\n",
       "      <td>Europa</td>\n",
       "      <td>False</td>\n",
       "      <td>B/0/P</td>\n",
       "      <td>TRAPPIST-1e</td>\n",
       "      <td>39.0</td>\n",
       "      <td>False</td>\n",
       "      <td>0.0</td>\n",
       "      <td>0.0</td>\n",
       "      <td>0.0</td>\n",
       "      <td>0.0</td>\n",
       "      <td>0.0</td>\n",
       "      <td>Maham Ofracculy</td>\n",
       "      <td>False</td>\n",
       "    </tr>\n",
       "    <tr>\n",
       "      <th>1</th>\n",
       "      <td>0002_01</td>\n",
       "      <td>Earth</td>\n",
       "      <td>False</td>\n",
       "      <td>F/0/S</td>\n",
       "      <td>TRAPPIST-1e</td>\n",
       "      <td>24.0</td>\n",
       "      <td>False</td>\n",
       "      <td>109.0</td>\n",
       "      <td>9.0</td>\n",
       "      <td>25.0</td>\n",
       "      <td>549.0</td>\n",
       "      <td>44.0</td>\n",
       "      <td>Juanna Vines</td>\n",
       "      <td>True</td>\n",
       "    </tr>\n",
       "    <tr>\n",
       "      <th>2</th>\n",
       "      <td>0003_01</td>\n",
       "      <td>Europa</td>\n",
       "      <td>False</td>\n",
       "      <td>A/0/S</td>\n",
       "      <td>TRAPPIST-1e</td>\n",
       "      <td>58.0</td>\n",
       "      <td>True</td>\n",
       "      <td>43.0</td>\n",
       "      <td>3576.0</td>\n",
       "      <td>0.0</td>\n",
       "      <td>6715.0</td>\n",
       "      <td>49.0</td>\n",
       "      <td>Altark Susent</td>\n",
       "      <td>False</td>\n",
       "    </tr>\n",
       "    <tr>\n",
       "      <th>3</th>\n",
       "      <td>0003_02</td>\n",
       "      <td>Europa</td>\n",
       "      <td>False</td>\n",
       "      <td>A/0/S</td>\n",
       "      <td>TRAPPIST-1e</td>\n",
       "      <td>33.0</td>\n",
       "      <td>False</td>\n",
       "      <td>0.0</td>\n",
       "      <td>1283.0</td>\n",
       "      <td>371.0</td>\n",
       "      <td>3329.0</td>\n",
       "      <td>193.0</td>\n",
       "      <td>Solam Susent</td>\n",
       "      <td>False</td>\n",
       "    </tr>\n",
       "    <tr>\n",
       "      <th>4</th>\n",
       "      <td>0004_01</td>\n",
       "      <td>Earth</td>\n",
       "      <td>False</td>\n",
       "      <td>F/1/S</td>\n",
       "      <td>TRAPPIST-1e</td>\n",
       "      <td>16.0</td>\n",
       "      <td>False</td>\n",
       "      <td>303.0</td>\n",
       "      <td>70.0</td>\n",
       "      <td>151.0</td>\n",
       "      <td>565.0</td>\n",
       "      <td>2.0</td>\n",
       "      <td>Willy Santantines</td>\n",
       "      <td>True</td>\n",
       "    </tr>\n",
       "  </tbody>\n",
       "</table>\n",
       "</div>"
      ],
      "text/plain": [
       "  PassengerId HomePlanet CryoSleep  Cabin  Destination   Age    VIP  \\\n",
       "0     0001_01     Europa     False  B/0/P  TRAPPIST-1e  39.0  False   \n",
       "1     0002_01      Earth     False  F/0/S  TRAPPIST-1e  24.0  False   \n",
       "2     0003_01     Europa     False  A/0/S  TRAPPIST-1e  58.0   True   \n",
       "3     0003_02     Europa     False  A/0/S  TRAPPIST-1e  33.0  False   \n",
       "4     0004_01      Earth     False  F/1/S  TRAPPIST-1e  16.0  False   \n",
       "\n",
       "   RoomService  FoodCourt  ShoppingMall     Spa  VRDeck               Name  \\\n",
       "0          0.0        0.0           0.0     0.0     0.0    Maham Ofracculy   \n",
       "1        109.0        9.0          25.0   549.0    44.0       Juanna Vines   \n",
       "2         43.0     3576.0           0.0  6715.0    49.0      Altark Susent   \n",
       "3          0.0     1283.0         371.0  3329.0   193.0       Solam Susent   \n",
       "4        303.0       70.0         151.0   565.0     2.0  Willy Santantines   \n",
       "\n",
       "   Transported  \n",
       "0        False  \n",
       "1         True  \n",
       "2        False  \n",
       "3        False  \n",
       "4         True  "
      ]
     },
     "execution_count": 156,
     "metadata": {},
     "output_type": "execute_result"
    }
   ],
   "source": [
    "df.head()"
   ]
  },
  {
   "cell_type": "code",
   "execution_count": 157,
   "metadata": {},
   "outputs": [
    {
     "data": {
      "text/plain": [
       "(8693, 14)"
      ]
     },
     "execution_count": 157,
     "metadata": {},
     "output_type": "execute_result"
    }
   ],
   "source": [
    "df.shape"
   ]
  },
  {
   "cell_type": "code",
   "execution_count": 158,
   "metadata": {},
   "outputs": [
    {
     "name": "stdout",
     "output_type": "stream",
     "text": [
      "<class 'pandas.core.frame.DataFrame'>\n",
      "RangeIndex: 8693 entries, 0 to 8692\n",
      "Data columns (total 14 columns):\n",
      " #   Column        Non-Null Count  Dtype  \n",
      "---  ------        --------------  -----  \n",
      " 0   PassengerId   8693 non-null   object \n",
      " 1   HomePlanet    8492 non-null   object \n",
      " 2   CryoSleep     8476 non-null   object \n",
      " 3   Cabin         8494 non-null   object \n",
      " 4   Destination   8511 non-null   object \n",
      " 5   Age           8514 non-null   float64\n",
      " 6   VIP           8490 non-null   object \n",
      " 7   RoomService   8512 non-null   float64\n",
      " 8   FoodCourt     8510 non-null   float64\n",
      " 9   ShoppingMall  8485 non-null   float64\n",
      " 10  Spa           8510 non-null   float64\n",
      " 11  VRDeck        8505 non-null   float64\n",
      " 12  Name          8493 non-null   object \n",
      " 13  Transported   8693 non-null   bool   \n",
      "dtypes: bool(1), float64(6), object(7)\n",
      "memory usage: 891.5+ KB\n"
     ]
    }
   ],
   "source": [
    "df.info()"
   ]
  },
  {
   "cell_type": "code",
   "execution_count": 159,
   "metadata": {},
   "outputs": [
    {
     "data": {
      "text/plain": [
       "PassengerId      object\n",
       "HomePlanet       object\n",
       "CryoSleep        object\n",
       "Cabin            object\n",
       "Destination      object\n",
       "Age             float64\n",
       "VIP              object\n",
       "RoomService     float64\n",
       "FoodCourt       float64\n",
       "ShoppingMall    float64\n",
       "Spa             float64\n",
       "VRDeck          float64\n",
       "Name             object\n",
       "Transported        bool\n",
       "dtype: object"
      ]
     },
     "execution_count": 159,
     "metadata": {},
     "output_type": "execute_result"
    }
   ],
   "source": [
    "df.dtypes"
   ]
  },
  {
   "cell_type": "code",
   "execution_count": 160,
   "metadata": {},
   "outputs": [],
   "source": [
    "def common_statistics(df, column):\n",
    "    column_deep_dive = df[column_name]\n",
    "    display(column_deep_dive.head())\n",
    "    print(\"Unique values: {0}   (Total records: {1})\".format(column_deep_dive.nunique(), df.shape[0]))\n",
    "    print(\"Missing values: {0}\".format(len(df[column_deep_dive.isnull()])))\n",
    "    print(\"Missing values in %: {:.2f}\".format(((len(df[column_deep_dive.isnull()])/df.shape[0])*100)))\n",
    "    print(\"--------------------------------------\")\n",
    "\n",
    "### function version extened of numerical analysis is available later (to keep thinking path)"
   ]
  },
  {
   "cell_type": "code",
   "execution_count": 161,
   "metadata": {},
   "outputs": [
    {
     "data": {
      "text/plain": [
       "0    0001_01\n",
       "1    0002_01\n",
       "2    0003_01\n",
       "3    0003_02\n",
       "4    0004_01\n",
       "Name: PassengerId, dtype: object"
      ]
     },
     "metadata": {},
     "output_type": "display_data"
    },
    {
     "name": "stdout",
     "output_type": "stream",
     "text": [
      "Unique values: 8693   (Total records: 8693)\n",
      "Missing values: 0\n",
      "Missing values in %: 0.00\n",
      "--------------------------------------\n"
     ]
    }
   ],
   "source": [
    "# Column \"PassengerId\"\n",
    "column_name= \"PassengerId\"\n",
    "column_deep_dive = df[column_name]\n",
    "display(column_deep_dive.head())\n",
    "print(\"Unique values: {0}   (Total records: {1})\".format(column_deep_dive.nunique(), df.shape[0]))\n",
    "print(\"Missing values: {0}\".format(len(df[column_deep_dive.isnull()])))\n",
    "print(\"Missing values in %: {:.2f}\".format(((len(df[column_deep_dive.isnull()])/df.shape[0])*100)))\n",
    "print(\"--------------------------------------\")"
   ]
  },
  {
   "cell_type": "code",
   "execution_count": 162,
   "metadata": {},
   "outputs": [
    {
     "data": {
      "text/plain": [
       "' \\nData type: str\\nEvery passenger has unique id\\n'"
      ]
     },
     "execution_count": 162,
     "metadata": {},
     "output_type": "execute_result"
    }
   ],
   "source": [
    "# Conclusion \"PassengerId\":\n",
    "\"\"\" \n",
    "Data type: str\n",
    "Every passenger has unique id\n",
    "\"\"\""
   ]
  },
  {
   "cell_type": "markdown",
   "metadata": {},
   "source": [
    "## [way of thinking] [custom function needed]\n",
    "### As for all columns basic statistics will be needed creating a special function for that make a work easier"
   ]
  },
  {
   "cell_type": "code",
   "execution_count": 163,
   "metadata": {},
   "outputs": [],
   "source": [
    "def common_statistics(df, column_name):\n",
    "    column_deep_dive = df[column_name]\n",
    "    display(column_deep_dive.head())\n",
    "    print(f\"Unique values: {column_deep_dive.nunique()}   (Total records: {df.shape[0]})\")\n",
    "    print(f\"Missing values: {len(df[column_deep_dive.isnull()])}\")\n",
    "    print(\"Missing values in %: {:.2f}\".format(((len(df[column_deep_dive.isnull()])/df.shape[0])*100)))\n",
    "    print(\"--------------------------------------\")"
   ]
  },
  {
   "cell_type": "code",
   "execution_count": 164,
   "metadata": {},
   "outputs": [
    {
     "data": {
      "text/plain": [
       "0    Europa\n",
       "1     Earth\n",
       "2    Europa\n",
       "3    Europa\n",
       "4     Earth\n",
       "Name: HomePlanet, dtype: object"
      ]
     },
     "metadata": {},
     "output_type": "display_data"
    },
    {
     "name": "stdout",
     "output_type": "stream",
     "text": [
      "Unique values: 3   (Total records: 8693)\n",
      "Missing values: 201\n",
      "Missing values in %: 2.31\n",
      "--------------------------------------\n"
     ]
    }
   ],
   "source": [
    "# Column \"HomePlanet\"\n",
    "common_statistics(df,\"HomePlanet\")"
   ]
  },
  {
   "cell_type": "code",
   "execution_count": 165,
   "metadata": {},
   "outputs": [
    {
     "data": {
      "text/plain": [
       "[Text(0, 0, '2131'), Text(0, 0, '4602'), Text(0, 0, '1759')]"
      ]
     },
     "execution_count": 165,
     "metadata": {},
     "output_type": "execute_result"
    },
    {
     "data": {
      "image/png": "[encoded data removed]",
      "text/plain": [
       "<Figure size 432x288 with 1 Axes>"
      ]
     },
     "metadata": {
      "needs_background": "light"
     },
     "output_type": "display_data"
    }
   ],
   "source": [
    "# Only 3 unique values - nice to plot\n",
    "column_name='HomePlanet'\n",
    "ax = sns.countplot(data =df, x=column_name)\n",
    "ax.bar_label(ax.containers[0], label_type = 'center')"
   ]
  },
  {
   "cell_type": "code",
   "execution_count": 166,
   "metadata": {},
   "outputs": [
    {
     "data": {
      "text/plain": [
       "'\\nData type: str\\nThere are 2% of missing values. To consider to fill these by dominant (\"Earth HomePlanet\") or put there a \"Unknown\".\\nRecords are biased a little into \"Earth HomePlanet\"\\n'"
      ]
     },
     "execution_count": 166,
     "metadata": {},
     "output_type": "execute_result"
    }
   ],
   "source": [
    "# Conclusion \"Home Planet\":\n",
    "\"\"\"\n",
    "Data type: str\n",
    "There are 2% of missing values. To consider to fill these by dominant (\"Earth HomePlanet\") or put there a \"Unknown\".\n",
    "Records are biased a little into \"Earth HomePlanet\"\n",
    "\"\"\""
   ]
  },
  {
   "cell_type": "code",
   "execution_count": 167,
   "metadata": {},
   "outputs": [
    {
     "data": {
      "text/plain": [
       "0    False\n",
       "1    False\n",
       "2    False\n",
       "3    False\n",
       "4    False\n",
       "Name: CryoSleep, dtype: object"
      ]
     },
     "metadata": {},
     "output_type": "display_data"
    },
    {
     "name": "stdout",
     "output_type": "stream",
     "text": [
      "Unique values: 2   (Total records: 8693)\n",
      "Missing values: 217\n",
      "Missing values in %: 2.50\n",
      "--------------------------------------\n"
     ]
    }
   ],
   "source": [
    "# Column \"CryoSleep\"\n",
    "common_statistics(df, \"CryoSleep\")\n"
   ]
  },
  {
   "cell_type": "code",
   "execution_count": 168,
   "metadata": {},
   "outputs": [
    {
     "data": {
      "text/plain": [
       "[Text(0, 0, '5439'), Text(0, 0, '3037')]"
      ]
     },
     "execution_count": 168,
     "metadata": {},
     "output_type": "execute_result"
    },
    {
     "data": {
      "image/png": "[encoded data removed]",
      "text/plain": [
       "<Figure size 432x288 with 1 Axes>"
      ]
     },
     "metadata": {
      "needs_background": "light"
     },
     "output_type": "display_data"
    }
   ],
   "source": [
    "# plot distrubution\n",
    "column_name='CryoSleep'\n",
    "ax=sns.countplot(data =df, x=column_name)\n",
    "ax.bar_label(ax.containers[0], label_type = 'center')"
   ]
  },
  {
   "cell_type": "code",
   "execution_count": 169,
   "metadata": {},
   "outputs": [
    {
     "data": {
      "text/plain": [
       "'\\nData type: bool\\nMost of cabins are without option cryosleep\\n'"
      ]
     },
     "execution_count": 169,
     "metadata": {},
     "output_type": "execute_result"
    }
   ],
   "source": [
    "# Conclusion \"CryoSleep\"\n",
    "\"\"\"\n",
    "Data type: bool\n",
    "Most of cabins are without option cryosleep\n",
    "\"\"\""
   ]
  },
  {
   "cell_type": "markdown",
   "metadata": {},
   "source": [
    "## [way of thinking] [custom function needed]\n",
    "#### As there were second time when  showing distribution plot was useful and probably there will be other oportunity for that to build the function"
   ]
  },
  {
   "cell_type": "code",
   "execution_count": 170,
   "metadata": {},
   "outputs": [],
   "source": [
    "def plot_distribution(df, column_name):\n",
    "    \"\"\"\n",
    "    Function for plotting a bar plot for distribution od categorical values. Be aware that to many categorical values may be not the best idea to show on graph.\n",
    "    Arg:\n",
    "    df - source data frame\n",
    "    column_name - column under analysis\n",
    "    \"\"\"\n",
    "    ax=sns.countplot(data =df, x=column_name)\n",
    "    ax.bar_label(ax.containers[0], label_type = 'center')"
   ]
  },
  {
   "cell_type": "code",
   "execution_count": 171,
   "metadata": {},
   "outputs": [
    {
     "data": {
      "text/plain": [
       "0    B/0/P\n",
       "1    F/0/S\n",
       "2    A/0/S\n",
       "3    A/0/S\n",
       "4    F/1/S\n",
       "Name: Cabin, dtype: object"
      ]
     },
     "metadata": {},
     "output_type": "display_data"
    },
    {
     "name": "stdout",
     "output_type": "stream",
     "text": [
      "Unique values: 6560   (Total records: 8693)\n",
      "Missing values: 199\n",
      "Missing values in %: 2.29\n",
      "--------------------------------------\n"
     ]
    }
   ],
   "source": [
    "# Column \"Cabin\"\n",
    "common_statistics(df,'Cabin')"
   ]
  },
  {
   "cell_type": "code",
   "execution_count": 172,
   "metadata": {},
   "outputs": [
    {
     "data": {
      "text/plain": [
       "Cabin\n",
       "G/734/S     8\n",
       "C/21/P      7\n",
       "G/1368/P    7\n",
       "B/82/S      7\n",
       "G/981/S     7\n",
       "C/137/S     7\n",
       "F/1411/P    7\n",
       "G/1476/S    7\n",
       "B/201/P     7\n",
       "D/176/S     7\n",
       "E/13/S      7\n",
       "F/1194/P    7\n",
       "B/11/S      7\n",
       "G/109/P     7\n",
       "G/974/P     6\n",
       "Name: Cabin, dtype: int64"
      ]
     },
     "execution_count": 172,
     "metadata": {},
     "output_type": "execute_result"
    }
   ],
   "source": [
    "# check what is the highest numer of passenger in single cabin\n",
    "df.groupby('Cabin')['Cabin'].count().sort_values(ascending=False).head(15)"
   ]
  },
  {
   "cell_type": "code",
   "execution_count": 173,
   "metadata": {},
   "outputs": [
    {
     "data": {
      "text/plain": [
       "1934"
      ]
     },
     "execution_count": 173,
     "metadata": {},
     "output_type": "execute_result"
    }
   ],
   "source": [
    "### passengers with roommate\n",
    "8693 - 6560 - 199"
   ]
  },
  {
   "cell_type": "code",
   "execution_count": 174,
   "metadata": {},
   "outputs": [
    {
     "data": {
      "text/plain": [
       "'\\nData type: str\\nColumn to divide into 3 separated! Reanalyse after that\\n1934 passengers share the cabin with someone\\nThe highest number of passengers in one cabin is 8. Next number (7) is available on different decks.\\n'"
      ]
     },
     "execution_count": 174,
     "metadata": {},
     "output_type": "execute_result"
    }
   ],
   "source": [
    "# Conclusion \"Cabin\"\n",
    "\"\"\"\n",
    "Data type: str\n",
    "Column to divide into 3 separated! Reanalyse after that\n",
    "1934 passengers share the cabin with someone\n",
    "The highest number of passengers in one cabin is 8. Next number (7) is available on different decks.\n",
    "\"\"\""
   ]
  },
  {
   "cell_type": "code",
   "execution_count": 175,
   "metadata": {},
   "outputs": [
    {
     "data": {
      "text/plain": [
       "0    TRAPPIST-1e\n",
       "1    TRAPPIST-1e\n",
       "2    TRAPPIST-1e\n",
       "3    TRAPPIST-1e\n",
       "4    TRAPPIST-1e\n",
       "Name: Destination, dtype: object"
      ]
     },
     "metadata": {},
     "output_type": "display_data"
    },
    {
     "name": "stdout",
     "output_type": "stream",
     "text": [
      "Unique values: 3   (Total records: 8693)\n",
      "Missing values: 182\n",
      "Missing values in %: 2.09\n",
      "--------------------------------------\n"
     ]
    }
   ],
   "source": [
    "# Column \"Destination\"\n",
    "common_statistics(df, \"Destination\")"
   ]
  },
  {
   "cell_type": "code",
   "execution_count": 176,
   "metadata": {},
   "outputs": [
    {
     "data": {
      "image/png": "[encoded data removed]",
      "text/plain": [
       "<Figure size 432x288 with 1 Axes>"
      ]
     },
     "metadata": {
      "needs_background": "light"
     },
     "output_type": "display_data"
    }
   ],
   "source": [
    "plot_distribution(df, \"Destination\")"
   ]
  },
  {
   "cell_type": "code",
   "execution_count": 177,
   "metadata": {},
   "outputs": [
    {
     "data": {
      "text/plain": [
       "\"\\nData type : str\\nThere are 3 available options\\n182 passengers don't declare destination\\n\""
      ]
     },
     "execution_count": 177,
     "metadata": {},
     "output_type": "execute_result"
    }
   ],
   "source": [
    "# Conclusions \"Destination\"\n",
    "\"\"\"\n",
    "Data type : str\n",
    "There are 3 available options\n",
    "182 passengers don't declare destination\n",
    "\"\"\""
   ]
  },
  {
   "cell_type": "code",
   "execution_count": 178,
   "metadata": {},
   "outputs": [
    {
     "data": {
      "text/plain": [
       "0    39.0\n",
       "1    24.0\n",
       "2    58.0\n",
       "3    33.0\n",
       "4    16.0\n",
       "Name: Age, dtype: float64"
      ]
     },
     "metadata": {},
     "output_type": "display_data"
    },
    {
     "name": "stdout",
     "output_type": "stream",
     "text": [
      "Unique values: 80   (Total records: 8693)\n",
      "Missing values: 179\n",
      "Missing values in %: 2.06\n",
      "--------------------------------------\n"
     ]
    }
   ],
   "source": [
    "# Column \"Age\"\n",
    "common_statistics(df, \"Age\")"
   ]
  },
  {
   "cell_type": "code",
   "execution_count": 179,
   "metadata": {},
   "outputs": [
    {
     "name": "stdout",
     "output_type": "stream",
     "text": [
      "Minimum age: 0.0 \n",
      "Maximum age: 79.0) \n",
      "Mean age: 28.82793046746535\n",
      "Median: 27.0\n"
     ]
    }
   ],
   "source": [
    "print(f\"Minimum age: {df['Age'].min()} \\nMaximum age: {df['Age'].max()}) \\nMean age: {df['Age'].mean()}\\nMedian: {df['Age'].median()}\")"
   ]
  },
  {
   "cell_type": "code",
   "execution_count": 180,
   "metadata": {},
   "outputs": [
    {
     "data": {
      "text/plain": [
       "'\\nData type: int\\n80 different ages\\n'"
      ]
     },
     "execution_count": 180,
     "metadata": {},
     "output_type": "execute_result"
    }
   ],
   "source": [
    "# Conclusion \"Age\"\n",
    "\"\"\"\n",
    "Data type: int\n",
    "80 different ages\n",
    "\"\"\""
   ]
  },
  {
   "cell_type": "markdown",
   "metadata": {},
   "source": [
    "## [way of thinking] [extend statistics function]\n",
    "### Add additonal statistics for numerical values\n"
   ]
  },
  {
   "cell_type": "code",
   "execution_count": 181,
   "metadata": {},
   "outputs": [],
   "source": [
    "def common_statistics(df, column_name):\n",
    "    column_deep_dive = df[column_name]\n",
    "    display(column_deep_dive.head())\n",
    "    print(f\"Unique values: {column_deep_dive.nunique()}   (Total records: {df.shape[0]})\")\n",
    "    print(f\"Missing values: {len(df[column_deep_dive.isnull()])}\")\n",
    "    print(\"Missing values in %: {:.2f}\".format(((len(df[column_deep_dive.isnull()])/df.shape[0])*100)))\n",
    "    print(\"--------------------------------------\")\n",
    "    if is_numeric_dtype(column_deep_dive): \n",
    "        print(f\"Minimum {column_name}: {df[column_name].min()}\")\n",
    "        print(f\"Maximum {column_name}: {df[column_name].max()}\")\n",
    "        print(f\"Mean {column_name}: {df[column_name].mean()}\")\n",
    "        print(f\"Median {column_name}: {df[column_name].median()}\")\n",
    "        print(\"--------------------------------------\")"
   ]
  },
  {
   "cell_type": "code",
   "execution_count": 182,
   "metadata": {},
   "outputs": [
    {
     "data": {
      "text/plain": [
       "0    False\n",
       "1    False\n",
       "2     True\n",
       "3    False\n",
       "4    False\n",
       "Name: VIP, dtype: object"
      ]
     },
     "metadata": {},
     "output_type": "display_data"
    },
    {
     "name": "stdout",
     "output_type": "stream",
     "text": [
      "Unique values: 2   (Total records: 8693)\n",
      "Missing values: 203\n",
      "Missing values in %: 2.34\n",
      "--------------------------------------\n"
     ]
    }
   ],
   "source": [
    "# Column \"VIP\"\n",
    "common_statistics(df,\"VIP\")"
   ]
  },
  {
   "cell_type": "code",
   "execution_count": 183,
   "metadata": {},
   "outputs": [
    {
     "data": {
      "image/png": "[encoded data removed]",
      "text/plain": [
       "<Figure size 432x288 with 1 Axes>"
      ]
     },
     "metadata": {
      "needs_background": "light"
     },
     "output_type": "display_data"
    }
   ],
   "source": [
    "plot_distribution(df, \"VIP\")"
   ]
  },
  {
   "cell_type": "code",
   "execution_count": 184,
   "metadata": {},
   "outputs": [
    {
     "data": {
      "text/plain": [
       "'\\nData type:  bool\\nThe vast majority of passenger are not VIP\\nCheck what VIP means: e.g. better accomodation, food etc.\\n'"
      ]
     },
     "execution_count": 184,
     "metadata": {},
     "output_type": "execute_result"
    }
   ],
   "source": [
    "# Conclusion\n",
    "\"\"\"\n",
    "Data type:  bool\n",
    "The vast majority of passenger are not VIP\n",
    "Check what VIP means: e.g. better accomodation, food etc.\n",
    "\"\"\""
   ]
  },
  {
   "cell_type": "code",
   "execution_count": 185,
   "metadata": {},
   "outputs": [
    {
     "data": {
      "text/plain": [
       "0      0.0\n",
       "1    109.0\n",
       "2     43.0\n",
       "3      0.0\n",
       "4    303.0\n",
       "Name: RoomService, dtype: float64"
      ]
     },
     "metadata": {},
     "output_type": "display_data"
    },
    {
     "name": "stdout",
     "output_type": "stream",
     "text": [
      "Unique values: 1273   (Total records: 8693)\n",
      "Missing values: 181\n",
      "Missing values in %: 2.08\n",
      "--------------------------------------\n",
      "Minimum RoomService: 0.0\n",
      "Maximum RoomService: 14327.0\n",
      "Mean RoomService: 224.687617481203\n",
      "Median RoomService: 0.0\n",
      "--------------------------------------\n"
     ]
    }
   ],
   "source": [
    "# Column \"RoomService\"\n",
    "common_statistics(df, \"RoomService\")"
   ]
  },
  {
   "cell_type": "code",
   "execution_count": 186,
   "metadata": {},
   "outputs": [
    {
     "data": {
      "text/plain": [
       "<AxesSubplot:xlabel='RoomService', ylabel='Count'>"
      ]
     },
     "execution_count": 186,
     "metadata": {},
     "output_type": "execute_result"
    },
    {
     "data": {
      "image/png": "[encoded data removed]",
      "text/plain": [
       "<Figure size 432x288 with 1 Axes>"
      ]
     },
     "metadata": {
      "needs_background": "light"
     },
     "output_type": "display_data"
    }
   ],
   "source": [
    "# check the roomservice cost distribution\n",
    "sns.histplot(df[\"RoomService\"], bins=20)"
   ]
  },
  {
   "cell_type": "code",
   "execution_count": 187,
   "metadata": {},
   "outputs": [
    {
     "name": "stdout",
     "output_type": "stream",
     "text": [
      "Passengers without roomservice: 5577\n",
      "Passengers spend more that 200 for roomservice : 1609\n"
     ]
    }
   ],
   "source": [
    "# check how many passengers spend 0\n",
    "print(f'Passengers without roomservice: { df[df[\"RoomService\"]==0].shape[0] }')\n",
    "# check how many spend more that mean\n",
    "print(f'Passengers spend more that 200 for roomservice : { df[df[\"RoomService\"]>df[\"RoomService\"].mean()].shape[0] }' )"
   ]
  },
  {
   "cell_type": "code",
   "execution_count": 188,
   "metadata": {},
   "outputs": [
    {
     "data": {
      "text/plain": [
       "'\\nData type: str\\nMore that half of passengers do not have roomservice\\n'"
      ]
     },
     "execution_count": 188,
     "metadata": {},
     "output_type": "execute_result"
    }
   ],
   "source": [
    "# Conclusions \"RoomService\"\n",
    "\"\"\"\n",
    "Data type: str\n",
    "More that half of passengers do not have roomservice\n",
    "\"\"\""
   ]
  },
  {
   "cell_type": "code",
   "execution_count": 189,
   "metadata": {},
   "outputs": [
    {
     "data": {
      "text/plain": [
       "0       0.0\n",
       "1       9.0\n",
       "2    3576.0\n",
       "3    1283.0\n",
       "4      70.0\n",
       "Name: FoodCourt, dtype: float64"
      ]
     },
     "metadata": {},
     "output_type": "display_data"
    },
    {
     "name": "stdout",
     "output_type": "stream",
     "text": [
      "Unique values: 1507   (Total records: 8693)\n",
      "Missing values: 183\n",
      "Missing values in %: 2.11\n",
      "--------------------------------------\n",
      "Minimum FoodCourt: 0.0\n",
      "Maximum FoodCourt: 29813.0\n",
      "Mean FoodCourt: 458.07720329024676\n",
      "Median FoodCourt: 0.0\n",
      "--------------------------------------\n"
     ]
    }
   ],
   "source": [
    "# Column \"FoodCourt\"\n",
    "common_statistics(df, \"FoodCourt\")"
   ]
  },
  {
   "cell_type": "markdown",
   "metadata": {},
   "source": [
    "# [way of thinking] [new function]\n",
    "### as there are a few columns desribing additional services a few characteristics will be repeated"
   ]
  },
  {
   "cell_type": "code",
   "execution_count": 190,
   "metadata": {},
   "outputs": [],
   "source": [
    "def additional_service_stats(df, column_name):\n",
    "    # check the cost distribution\n",
    "    sns.histplot(df[column_name], bins=20)\n",
    "    # check how many passengers spend 0\n",
    "    print(f'Passengers without {column_name}: { df[df[column_name]==0].shape[0] }')\n",
    "    # check how many spend more that mean\n",
    "    print(f'Passengers spend more that 200 for {column_name} : { df[df[column_name]>df[column_name].mean()].shape[0] }' )"
   ]
  },
  {
   "cell_type": "code",
   "execution_count": 191,
   "metadata": {},
   "outputs": [
    {
     "name": "stdout",
     "output_type": "stream",
     "text": [
      "Passengers without FoodCourt: 5456\n",
      "Passengers spend more that 200 for FoodCourt : 1453\n"
     ]
    },
    {
     "data": {
      "image/png": "[encoded data removed]",
      "text/plain": [
       "<Figure size 432x288 with 1 Axes>"
      ]
     },
     "metadata": {
      "needs_background": "light"
     },
     "output_type": "display_data"
    }
   ],
   "source": [
    "additional_service_stats(df,\"FoodCourt\")"
   ]
  },
  {
   "cell_type": "code",
   "execution_count": 192,
   "metadata": {},
   "outputs": [],
   "source": [
    "# Conclusions \"FoodCourt\""
   ]
  },
  {
   "cell_type": "code",
   "execution_count": 193,
   "metadata": {},
   "outputs": [
    {
     "data": {
      "text/plain": [
       "0      0.0\n",
       "1     25.0\n",
       "2      0.0\n",
       "3    371.0\n",
       "4    151.0\n",
       "Name: ShoppingMall, dtype: float64"
      ]
     },
     "metadata": {},
     "output_type": "display_data"
    },
    {
     "name": "stdout",
     "output_type": "stream",
     "text": [
      "Unique values: 1115   (Total records: 8693)\n",
      "Missing values: 208\n",
      "Missing values in %: 2.39\n",
      "--------------------------------------\n",
      "Minimum ShoppingMall: 0.0\n",
      "Maximum ShoppingMall: 23492.0\n",
      "Mean ShoppingMall: 173.72916912197996\n",
      "Median ShoppingMall: 0.0\n",
      "--------------------------------------\n",
      "Passengers without ShoppingMall: 5587\n",
      "Passengers spend more that 200 for ShoppingMall : 1493\n"
     ]
    },
    {
     "data": {
      "image/png": "[encoded data removed]",
      "text/plain": [
       "<Figure size 432x288 with 1 Axes>"
      ]
     },
     "metadata": {
      "needs_background": "light"
     },
     "output_type": "display_data"
    }
   ],
   "source": [
    "# Column \"ShoppingMall\"\n",
    "common_statistics(df,\"ShoppingMall\")\n",
    "additional_service_stats(df, \"ShoppingMall\")"
   ]
  },
  {
   "cell_type": "code",
   "execution_count": 194,
   "metadata": {},
   "outputs": [],
   "source": [
    "# Conclusions \"ShoppingMall\""
   ]
  },
  {
   "cell_type": "code",
   "execution_count": 195,
   "metadata": {},
   "outputs": [
    {
     "data": {
      "text/plain": [
       "0       0.0\n",
       "1     549.0\n",
       "2    6715.0\n",
       "3    3329.0\n",
       "4     565.0\n",
       "Name: Spa, dtype: float64"
      ]
     },
     "metadata": {},
     "output_type": "display_data"
    },
    {
     "name": "stdout",
     "output_type": "stream",
     "text": [
      "Unique values: 1327   (Total records: 8693)\n",
      "Missing values: 183\n",
      "Missing values in %: 2.11\n",
      "--------------------------------------\n",
      "Minimum Spa: 0.0\n",
      "Maximum Spa: 22408.0\n",
      "Mean Spa: 311.1387779083431\n",
      "Median Spa: 0.0\n",
      "--------------------------------------\n",
      "Passengers without Spa: 5324\n",
      "Passengers spend more that 200 for Spa : 1425\n"
     ]
    },
    {
     "data": {
      "image/png": "[encoded data removed]",
      "text/plain": [
       "<Figure size 432x288 with 1 Axes>"
      ]
     },
     "metadata": {
      "needs_background": "light"
     },
     "output_type": "display_data"
    }
   ],
   "source": [
    "# Column \"Spa\"\n",
    "common_statistics(df,\"Spa\")\n",
    "additional_service_stats(df, \"Spa\")"
   ]
  },
  {
   "cell_type": "code",
   "execution_count": 196,
   "metadata": {},
   "outputs": [],
   "source": [
    "# Conclusions \"Spa\""
   ]
  },
  {
   "cell_type": "code",
   "execution_count": 197,
   "metadata": {},
   "outputs": [
    {
     "data": {
      "text/plain": [
       "0      0.0\n",
       "1     44.0\n",
       "2     49.0\n",
       "3    193.0\n",
       "4      2.0\n",
       "Name: VRDeck, dtype: float64"
      ]
     },
     "metadata": {},
     "output_type": "display_data"
    },
    {
     "name": "stdout",
     "output_type": "stream",
     "text": [
      "Unique values: 1306   (Total records: 8693)\n",
      "Missing values: 188\n",
      "Missing values in %: 2.16\n",
      "--------------------------------------\n",
      "Minimum VRDeck: 0.0\n",
      "Maximum VRDeck: 24133.0\n",
      "Mean VRDeck: 304.8547912992357\n",
      "Median VRDeck: 0.0\n",
      "--------------------------------------\n",
      "Passengers without VRDeck: 5495\n",
      "Passengers spend more that 200 for VRDeck : 1450\n"
     ]
    },
    {
     "data": {
      "image/png": "[encoded data removed]",
      "text/plain": [
       "<Figure size 432x288 with 1 Axes>"
      ]
     },
     "metadata": {
      "needs_background": "light"
     },
     "output_type": "display_data"
    }
   ],
   "source": [
    "# Column \"VRDeck\"\n",
    "common_statistics(df,\"VRDeck\")\n",
    "additional_service_stats(df, \"VRDeck\")"
   ]
  },
  {
   "cell_type": "code",
   "execution_count": 198,
   "metadata": {},
   "outputs": [],
   "source": [
    "# Conclusions \"VRDeck\""
   ]
  },
  {
   "cell_type": "code",
   "execution_count": 199,
   "metadata": {},
   "outputs": [
    {
     "data": {
      "text/plain": [
       "0      Maham Ofracculy\n",
       "1         Juanna Vines\n",
       "2        Altark Susent\n",
       "3         Solam Susent\n",
       "4    Willy Santantines\n",
       "Name: Name, dtype: object"
      ]
     },
     "metadata": {},
     "output_type": "display_data"
    },
    {
     "name": "stdout",
     "output_type": "stream",
     "text": [
      "Unique values: 8473   (Total records: 8693)\n",
      "Missing values: 200\n",
      "Missing values in %: 2.30\n",
      "--------------------------------------\n"
     ]
    }
   ],
   "source": [
    "# Column \"Name\"\n",
    "common_statistics(df,\"Name\")"
   ]
  },
  {
   "cell_type": "code",
   "execution_count": 200,
   "metadata": {},
   "outputs": [
    {
     "data": {
      "text/html": [
       "<div>\n",
       "<style scoped>\n",
       "    .dataframe tbody tr th:only-of-type {\n",
       "        vertical-align: middle;\n",
       "    }\n",
       "\n",
       "    .dataframe tbody tr th {\n",
       "        vertical-align: top;\n",
       "    }\n",
       "\n",
       "    .dataframe thead th {\n",
       "        text-align: right;\n",
       "    }\n",
       "</style>\n",
       "<table border=\"1\" class=\"dataframe\">\n",
       "  <thead>\n",
       "    <tr style=\"text-align: right;\">\n",
       "      <th></th>\n",
       "      <th>PassengerId</th>\n",
       "      <th>HomePlanet</th>\n",
       "      <th>CryoSleep</th>\n",
       "      <th>Cabin</th>\n",
       "      <th>Destination</th>\n",
       "      <th>Age</th>\n",
       "      <th>VIP</th>\n",
       "      <th>RoomService</th>\n",
       "      <th>FoodCourt</th>\n",
       "      <th>ShoppingMall</th>\n",
       "      <th>Spa</th>\n",
       "      <th>VRDeck</th>\n",
       "      <th>Name</th>\n",
       "      <th>Transported</th>\n",
       "    </tr>\n",
       "  </thead>\n",
       "  <tbody>\n",
       "    <tr>\n",
       "      <th>27</th>\n",
       "      <td>0022_01</td>\n",
       "      <td>Mars</td>\n",
       "      <td>False</td>\n",
       "      <td>D/0/P</td>\n",
       "      <td>TRAPPIST-1e</td>\n",
       "      <td>21.0</td>\n",
       "      <td>False</td>\n",
       "      <td>980.0</td>\n",
       "      <td>2.0</td>\n",
       "      <td>69.0</td>\n",
       "      <td>0.0</td>\n",
       "      <td>0.0</td>\n",
       "      <td>NaN</td>\n",
       "      <td>False</td>\n",
       "    </tr>\n",
       "    <tr>\n",
       "      <th>58</th>\n",
       "      <td>0064_01</td>\n",
       "      <td>Mars</td>\n",
       "      <td>True</td>\n",
       "      <td>F/14/S</td>\n",
       "      <td>TRAPPIST-1e</td>\n",
       "      <td>15.0</td>\n",
       "      <td>False</td>\n",
       "      <td>0.0</td>\n",
       "      <td>0.0</td>\n",
       "      <td>0.0</td>\n",
       "      <td>0.0</td>\n",
       "      <td>0.0</td>\n",
       "      <td>NaN</td>\n",
       "      <td>True</td>\n",
       "    </tr>\n",
       "    <tr>\n",
       "      <th>65</th>\n",
       "      <td>0069_01</td>\n",
       "      <td>Earth</td>\n",
       "      <td>False</td>\n",
       "      <td>F/16/S</td>\n",
       "      <td>TRAPPIST-1e</td>\n",
       "      <td>42.0</td>\n",
       "      <td>False</td>\n",
       "      <td>887.0</td>\n",
       "      <td>0.0</td>\n",
       "      <td>9.0</td>\n",
       "      <td>6.0</td>\n",
       "      <td>0.0</td>\n",
       "      <td>NaN</td>\n",
       "      <td>True</td>\n",
       "    </tr>\n",
       "    <tr>\n",
       "      <th>77</th>\n",
       "      <td>0082_03</td>\n",
       "      <td>Mars</td>\n",
       "      <td>False</td>\n",
       "      <td>F/16/P</td>\n",
       "      <td>TRAPPIST-1e</td>\n",
       "      <td>8.0</td>\n",
       "      <td>False</td>\n",
       "      <td>0.0</td>\n",
       "      <td>0.0</td>\n",
       "      <td>0.0</td>\n",
       "      <td>0.0</td>\n",
       "      <td>0.0</td>\n",
       "      <td>NaN</td>\n",
       "      <td>True</td>\n",
       "    </tr>\n",
       "    <tr>\n",
       "      <th>101</th>\n",
       "      <td>0108_02</td>\n",
       "      <td>Earth</td>\n",
       "      <td>False</td>\n",
       "      <td>G/19/S</td>\n",
       "      <td>TRAPPIST-1e</td>\n",
       "      <td>31.0</td>\n",
       "      <td>False</td>\n",
       "      <td>562.0</td>\n",
       "      <td>0.0</td>\n",
       "      <td>326.0</td>\n",
       "      <td>0.0</td>\n",
       "      <td>0.0</td>\n",
       "      <td>NaN</td>\n",
       "      <td>False</td>\n",
       "    </tr>\n",
       "    <tr>\n",
       "      <th>126</th>\n",
       "      <td>0136_01</td>\n",
       "      <td>Earth</td>\n",
       "      <td>False</td>\n",
       "      <td>G/23/S</td>\n",
       "      <td>PSO J318.5-22</td>\n",
       "      <td>47.0</td>\n",
       "      <td>False</td>\n",
       "      <td>97.0</td>\n",
       "      <td>418.0</td>\n",
       "      <td>126.0</td>\n",
       "      <td>25.0</td>\n",
       "      <td>55.0</td>\n",
       "      <td>NaN</td>\n",
       "      <td>False</td>\n",
       "    </tr>\n",
       "    <tr>\n",
       "      <th>165</th>\n",
       "      <td>0190_01</td>\n",
       "      <td>Earth</td>\n",
       "      <td>True</td>\n",
       "      <td>G/32/S</td>\n",
       "      <td>55 Cancri e</td>\n",
       "      <td>11.0</td>\n",
       "      <td>False</td>\n",
       "      <td>0.0</td>\n",
       "      <td>0.0</td>\n",
       "      <td>0.0</td>\n",
       "      <td>0.0</td>\n",
       "      <td>0.0</td>\n",
       "      <td>NaN</td>\n",
       "      <td>False</td>\n",
       "    </tr>\n",
       "    <tr>\n",
       "      <th>297</th>\n",
       "      <td>0330_02</td>\n",
       "      <td>Europa</td>\n",
       "      <td>False</td>\n",
       "      <td>C/14/S</td>\n",
       "      <td>TRAPPIST-1e</td>\n",
       "      <td>32.0</td>\n",
       "      <td>False</td>\n",
       "      <td>247.0</td>\n",
       "      <td>4651.0</td>\n",
       "      <td>0.0</td>\n",
       "      <td>46.0</td>\n",
       "      <td>202.0</td>\n",
       "      <td>NaN</td>\n",
       "      <td>True</td>\n",
       "    </tr>\n",
       "    <tr>\n",
       "      <th>305</th>\n",
       "      <td>0337_03</td>\n",
       "      <td>Mars</td>\n",
       "      <td>False</td>\n",
       "      <td>F/63/S</td>\n",
       "      <td>55 Cancri e</td>\n",
       "      <td>0.0</td>\n",
       "      <td>False</td>\n",
       "      <td>0.0</td>\n",
       "      <td>0.0</td>\n",
       "      <td>0.0</td>\n",
       "      <td>0.0</td>\n",
       "      <td>0.0</td>\n",
       "      <td>NaN</td>\n",
       "      <td>True</td>\n",
       "    </tr>\n",
       "    <tr>\n",
       "      <th>331</th>\n",
       "      <td>0372_01</td>\n",
       "      <td>Earth</td>\n",
       "      <td>False</td>\n",
       "      <td>F/85/P</td>\n",
       "      <td>TRAPPIST-1e</td>\n",
       "      <td>24.0</td>\n",
       "      <td>False</td>\n",
       "      <td>0.0</td>\n",
       "      <td>5.0</td>\n",
       "      <td>0.0</td>\n",
       "      <td>2766.0</td>\n",
       "      <td>0.0</td>\n",
       "      <td>NaN</td>\n",
       "      <td>False</td>\n",
       "    </tr>\n",
       "  </tbody>\n",
       "</table>\n",
       "</div>"
      ],
      "text/plain": [
       "    PassengerId HomePlanet CryoSleep   Cabin    Destination   Age    VIP  \\\n",
       "27      0022_01       Mars     False   D/0/P    TRAPPIST-1e  21.0  False   \n",
       "58      0064_01       Mars      True  F/14/S    TRAPPIST-1e  15.0  False   \n",
       "65      0069_01      Earth     False  F/16/S    TRAPPIST-1e  42.0  False   \n",
       "77      0082_03       Mars     False  F/16/P    TRAPPIST-1e   8.0  False   \n",
       "101     0108_02      Earth     False  G/19/S    TRAPPIST-1e  31.0  False   \n",
       "126     0136_01      Earth     False  G/23/S  PSO J318.5-22  47.0  False   \n",
       "165     0190_01      Earth      True  G/32/S    55 Cancri e  11.0  False   \n",
       "297     0330_02     Europa     False  C/14/S    TRAPPIST-1e  32.0  False   \n",
       "305     0337_03       Mars     False  F/63/S    55 Cancri e   0.0  False   \n",
       "331     0372_01      Earth     False  F/85/P    TRAPPIST-1e  24.0  False   \n",
       "\n",
       "     RoomService  FoodCourt  ShoppingMall     Spa  VRDeck Name  Transported  \n",
       "27         980.0        2.0          69.0     0.0     0.0  NaN        False  \n",
       "58           0.0        0.0           0.0     0.0     0.0  NaN         True  \n",
       "65         887.0        0.0           9.0     6.0     0.0  NaN         True  \n",
       "77           0.0        0.0           0.0     0.0     0.0  NaN         True  \n",
       "101        562.0        0.0         326.0     0.0     0.0  NaN        False  \n",
       "126         97.0      418.0         126.0    25.0    55.0  NaN        False  \n",
       "165          0.0        0.0           0.0     0.0     0.0  NaN        False  \n",
       "297        247.0     4651.0           0.0    46.0   202.0  NaN         True  \n",
       "305          0.0        0.0           0.0     0.0     0.0  NaN         True  \n",
       "331          0.0        5.0           0.0  2766.0     0.0  NaN        False  "
      ]
     },
     "metadata": {},
     "output_type": "display_data"
    },
    {
     "data": {
      "text/html": [
       "<div>\n",
       "<style scoped>\n",
       "    .dataframe tbody tr th:only-of-type {\n",
       "        vertical-align: middle;\n",
       "    }\n",
       "\n",
       "    .dataframe tbody tr th {\n",
       "        vertical-align: top;\n",
       "    }\n",
       "\n",
       "    .dataframe thead th {\n",
       "        text-align: right;\n",
       "    }\n",
       "</style>\n",
       "<table border=\"1\" class=\"dataframe\">\n",
       "  <thead>\n",
       "    <tr style=\"text-align: right;\">\n",
       "      <th></th>\n",
       "      <th>PassengerId</th>\n",
       "      <th>HomePlanet</th>\n",
       "      <th>CryoSleep</th>\n",
       "      <th>Cabin</th>\n",
       "      <th>Destination</th>\n",
       "      <th>Age</th>\n",
       "      <th>VIP</th>\n",
       "      <th>RoomService</th>\n",
       "      <th>FoodCourt</th>\n",
       "      <th>ShoppingMall</th>\n",
       "      <th>Spa</th>\n",
       "      <th>VRDeck</th>\n",
       "      <th>Name</th>\n",
       "      <th>Transported</th>\n",
       "    </tr>\n",
       "  </thead>\n",
       "  <tbody>\n",
       "    <tr>\n",
       "      <th>8460</th>\n",
       "      <td>9034_04</td>\n",
       "      <td>Europa</td>\n",
       "      <td>False</td>\n",
       "      <td>D/288/P</td>\n",
       "      <td>TRAPPIST-1e</td>\n",
       "      <td>60.0</td>\n",
       "      <td>False</td>\n",
       "      <td>0.0</td>\n",
       "      <td>NaN</td>\n",
       "      <td>947.0</td>\n",
       "      <td>668.0</td>\n",
       "      <td>1.0</td>\n",
       "      <td>NaN</td>\n",
       "      <td>True</td>\n",
       "    </tr>\n",
       "    <tr>\n",
       "      <th>8510</th>\n",
       "      <td>9081_04</td>\n",
       "      <td>Earth</td>\n",
       "      <td>False</td>\n",
       "      <td>G/1476/P</td>\n",
       "      <td>TRAPPIST-1e</td>\n",
       "      <td>9.0</td>\n",
       "      <td>False</td>\n",
       "      <td>0.0</td>\n",
       "      <td>0.0</td>\n",
       "      <td>0.0</td>\n",
       "      <td>0.0</td>\n",
       "      <td>0.0</td>\n",
       "      <td>NaN</td>\n",
       "      <td>True</td>\n",
       "    </tr>\n",
       "    <tr>\n",
       "      <th>8516</th>\n",
       "      <td>9085_01</td>\n",
       "      <td>Europa</td>\n",
       "      <td>False</td>\n",
       "      <td>A/95/P</td>\n",
       "      <td>55 Cancri e</td>\n",
       "      <td>70.0</td>\n",
       "      <td>False</td>\n",
       "      <td>0.0</td>\n",
       "      <td>2113.0</td>\n",
       "      <td>0.0</td>\n",
       "      <td>1972.0</td>\n",
       "      <td>51.0</td>\n",
       "      <td>NaN</td>\n",
       "      <td>False</td>\n",
       "    </tr>\n",
       "    <tr>\n",
       "      <th>8604</th>\n",
       "      <td>9183_01</td>\n",
       "      <td>Europa</td>\n",
       "      <td>False</td>\n",
       "      <td>C/307/P</td>\n",
       "      <td>55 Cancri e</td>\n",
       "      <td>34.0</td>\n",
       "      <td>False</td>\n",
       "      <td>0.0</td>\n",
       "      <td>5.0</td>\n",
       "      <td>11.0</td>\n",
       "      <td>62.0</td>\n",
       "      <td>5804.0</td>\n",
       "      <td>NaN</td>\n",
       "      <td>False</td>\n",
       "    </tr>\n",
       "    <tr>\n",
       "      <th>8613</th>\n",
       "      <td>9194_01</td>\n",
       "      <td>NaN</td>\n",
       "      <td>False</td>\n",
       "      <td>E/603/S</td>\n",
       "      <td>55 Cancri e</td>\n",
       "      <td>53.0</td>\n",
       "      <td>False</td>\n",
       "      <td>0.0</td>\n",
       "      <td>4017.0</td>\n",
       "      <td>0.0</td>\n",
       "      <td>13.0</td>\n",
       "      <td>3147.0</td>\n",
       "      <td>NaN</td>\n",
       "      <td>False</td>\n",
       "    </tr>\n",
       "    <tr>\n",
       "      <th>8629</th>\n",
       "      <td>9205_02</td>\n",
       "      <td>Europa</td>\n",
       "      <td>True</td>\n",
       "      <td>B/300/P</td>\n",
       "      <td>TRAPPIST-1e</td>\n",
       "      <td>15.0</td>\n",
       "      <td>False</td>\n",
       "      <td>0.0</td>\n",
       "      <td>0.0</td>\n",
       "      <td>0.0</td>\n",
       "      <td>0.0</td>\n",
       "      <td>0.0</td>\n",
       "      <td>NaN</td>\n",
       "      <td>True</td>\n",
       "    </tr>\n",
       "    <tr>\n",
       "      <th>8631</th>\n",
       "      <td>9208_01</td>\n",
       "      <td>Earth</td>\n",
       "      <td>True</td>\n",
       "      <td>G/1485/S</td>\n",
       "      <td>TRAPPIST-1e</td>\n",
       "      <td>35.0</td>\n",
       "      <td>False</td>\n",
       "      <td>0.0</td>\n",
       "      <td>0.0</td>\n",
       "      <td>0.0</td>\n",
       "      <td>0.0</td>\n",
       "      <td>0.0</td>\n",
       "      <td>NaN</td>\n",
       "      <td>True</td>\n",
       "    </tr>\n",
       "    <tr>\n",
       "      <th>8636</th>\n",
       "      <td>9218_01</td>\n",
       "      <td>Europa</td>\n",
       "      <td>True</td>\n",
       "      <td>B/353/S</td>\n",
       "      <td>55 Cancri e</td>\n",
       "      <td>43.0</td>\n",
       "      <td>False</td>\n",
       "      <td>0.0</td>\n",
       "      <td>0.0</td>\n",
       "      <td>0.0</td>\n",
       "      <td>0.0</td>\n",
       "      <td>0.0</td>\n",
       "      <td>NaN</td>\n",
       "      <td>True</td>\n",
       "    </tr>\n",
       "    <tr>\n",
       "      <th>8652</th>\n",
       "      <td>9230_01</td>\n",
       "      <td>Europa</td>\n",
       "      <td>False</td>\n",
       "      <td>C/342/S</td>\n",
       "      <td>TRAPPIST-1e</td>\n",
       "      <td>36.0</td>\n",
       "      <td>True</td>\n",
       "      <td>0.0</td>\n",
       "      <td>5600.0</td>\n",
       "      <td>715.0</td>\n",
       "      <td>2868.0</td>\n",
       "      <td>971.0</td>\n",
       "      <td>NaN</td>\n",
       "      <td>True</td>\n",
       "    </tr>\n",
       "    <tr>\n",
       "      <th>8664</th>\n",
       "      <td>9246_01</td>\n",
       "      <td>Earth</td>\n",
       "      <td>NaN</td>\n",
       "      <td>G/1490/S</td>\n",
       "      <td>TRAPPIST-1e</td>\n",
       "      <td>32.0</td>\n",
       "      <td>False</td>\n",
       "      <td>0.0</td>\n",
       "      <td>0.0</td>\n",
       "      <td>0.0</td>\n",
       "      <td>0.0</td>\n",
       "      <td>0.0</td>\n",
       "      <td>NaN</td>\n",
       "      <td>True</td>\n",
       "    </tr>\n",
       "  </tbody>\n",
       "</table>\n",
       "</div>"
      ],
      "text/plain": [
       "     PassengerId HomePlanet CryoSleep     Cabin  Destination   Age    VIP  \\\n",
       "8460     9034_04     Europa     False   D/288/P  TRAPPIST-1e  60.0  False   \n",
       "8510     9081_04      Earth     False  G/1476/P  TRAPPIST-1e   9.0  False   \n",
       "8516     9085_01     Europa     False    A/95/P  55 Cancri e  70.0  False   \n",
       "8604     9183_01     Europa     False   C/307/P  55 Cancri e  34.0  False   \n",
       "8613     9194_01        NaN     False   E/603/S  55 Cancri e  53.0  False   \n",
       "8629     9205_02     Europa      True   B/300/P  TRAPPIST-1e  15.0  False   \n",
       "8631     9208_01      Earth      True  G/1485/S  TRAPPIST-1e  35.0  False   \n",
       "8636     9218_01     Europa      True   B/353/S  55 Cancri e  43.0  False   \n",
       "8652     9230_01     Europa     False   C/342/S  TRAPPIST-1e  36.0   True   \n",
       "8664     9246_01      Earth       NaN  G/1490/S  TRAPPIST-1e  32.0  False   \n",
       "\n",
       "      RoomService  FoodCourt  ShoppingMall     Spa  VRDeck Name  Transported  \n",
       "8460          0.0        NaN         947.0   668.0     1.0  NaN         True  \n",
       "8510          0.0        0.0           0.0     0.0     0.0  NaN         True  \n",
       "8516          0.0     2113.0           0.0  1972.0    51.0  NaN        False  \n",
       "8604          0.0        5.0          11.0    62.0  5804.0  NaN        False  \n",
       "8613          0.0     4017.0           0.0    13.0  3147.0  NaN        False  \n",
       "8629          0.0        0.0           0.0     0.0     0.0  NaN         True  \n",
       "8631          0.0        0.0           0.0     0.0     0.0  NaN         True  \n",
       "8636          0.0        0.0           0.0     0.0     0.0  NaN         True  \n",
       "8652          0.0     5600.0         715.0  2868.0   971.0  NaN         True  \n",
       "8664          0.0        0.0           0.0     0.0     0.0  NaN         True  "
      ]
     },
     "metadata": {},
     "output_type": "display_data"
    }
   ],
   "source": [
    "# check passengers without Name\n",
    "display(df[df[\"Name\"].isnull()].head(10))\n",
    "display(df[df[\"Name\"].isnull()].tail(10))"
   ]
  },
  {
   "cell_type": "code",
   "execution_count": 201,
   "metadata": {},
   "outputs": [],
   "source": [
    "# Conclusions \"Name\""
   ]
  },
  {
   "cell_type": "code",
   "execution_count": 202,
   "metadata": {},
   "outputs": [
    {
     "data": {
      "text/plain": [
       "0    False\n",
       "1     True\n",
       "2    False\n",
       "3    False\n",
       "4     True\n",
       "Name: Transported, dtype: bool"
      ]
     },
     "metadata": {},
     "output_type": "display_data"
    },
    {
     "name": "stdout",
     "output_type": "stream",
     "text": [
      "Unique values: 2   (Total records: 8693)\n",
      "Missing values: 0\n",
      "Missing values in %: 0.00\n",
      "--------------------------------------\n",
      "Minimum Transported: False\n",
      "Maximum Transported: True\n",
      "Mean Transported: 0.5036236051995858\n",
      "Median Transported: 1.0\n",
      "--------------------------------------\n"
     ]
    },
    {
     "data": {
      "image/png": "[encoded data removed]",
      "text/plain": [
       "<Figure size 432x288 with 1 Axes>"
      ]
     },
     "metadata": {
      "needs_background": "light"
     },
     "output_type": "display_data"
    }
   ],
   "source": [
    "# Column \"Transported\"\n",
    "common_statistics(df,\"Transported\")\n",
    "plot_distribution(df,\"Transported\")"
   ]
  },
  {
   "cell_type": "code",
   "execution_count": 203,
   "metadata": {},
   "outputs": [
    {
     "data": {
      "text/plain": [
       "\"\\nAmount of records for both option is quite proportional. Don't need to resample\\n\""
      ]
     },
     "execution_count": 203,
     "metadata": {},
     "output_type": "execute_result"
    }
   ],
   "source": [
    "# Conclusions \"Transported\"\n",
    "\"\"\"\n",
    "Amount of records for both option is quite proportional. Don't need to resample\n",
    "\"\"\""
   ]
  },
  {
   "cell_type": "markdown",
   "metadata": {},
   "source": [
    " ## Actions from conclusions\n",
    " - (*Each Id takes the form gggg_pp where gggg indicates a group the passenger is travelling with and pp is their number within the group. People in a group are often family members, but not always*)\n",
    " - divide \"Cabin\" column into 3 separeted (*form deck/num/side, where side can be either P for Port or S for Starboard*); reanalyze them\n",
    " - check where and how VIPs are accomodated (eg. which deck, cryo, food etc.)"
   ]
  },
  {
   "cell_type": "markdown",
   "metadata": {},
   "source": [
    "# [way of thinking] [next steps]\n",
    "### now is good moment to implement points from \"Actions from conclusions\" and check the impact for being transported or not. It is first step for preprocessing but necessary to finish Explolatory Data Analysis"
   ]
  },
  {
   "cell_type": "markdown",
   "metadata": {},
   "source": [
    "### new columns"
   ]
  },
  {
   "cell_type": "code",
   "execution_count": 204,
   "metadata": {},
   "outputs": [
    {
     "data": {
      "text/html": [
       "<div>\n",
       "<style scoped>\n",
       "    .dataframe tbody tr th:only-of-type {\n",
       "        vertical-align: middle;\n",
       "    }\n",
       "\n",
       "    .dataframe tbody tr th {\n",
       "        vertical-align: top;\n",
       "    }\n",
       "\n",
       "    .dataframe thead th {\n",
       "        text-align: right;\n",
       "    }\n",
       "</style>\n",
       "<table border=\"1\" class=\"dataframe\">\n",
       "  <thead>\n",
       "    <tr style=\"text-align: right;\">\n",
       "      <th></th>\n",
       "      <th>PassengerId</th>\n",
       "      <th>HomePlanet</th>\n",
       "      <th>CryoSleep</th>\n",
       "      <th>Cabin</th>\n",
       "      <th>Destination</th>\n",
       "      <th>Age</th>\n",
       "      <th>VIP</th>\n",
       "      <th>RoomService</th>\n",
       "      <th>FoodCourt</th>\n",
       "      <th>ShoppingMall</th>\n",
       "      <th>Spa</th>\n",
       "      <th>VRDeck</th>\n",
       "      <th>Name</th>\n",
       "      <th>Transported</th>\n",
       "    </tr>\n",
       "  </thead>\n",
       "  <tbody>\n",
       "    <tr>\n",
       "      <th>0</th>\n",
       "      <td>0001_01</td>\n",
       "      <td>Europa</td>\n",
       "      <td>False</td>\n",
       "      <td>B/0/P</td>\n",
       "      <td>TRAPPIST-1e</td>\n",
       "      <td>39.0</td>\n",
       "      <td>False</td>\n",
       "      <td>0.0</td>\n",
       "      <td>0.0</td>\n",
       "      <td>0.0</td>\n",
       "      <td>0.0</td>\n",
       "      <td>0.0</td>\n",
       "      <td>Maham Ofracculy</td>\n",
       "      <td>False</td>\n",
       "    </tr>\n",
       "    <tr>\n",
       "      <th>1</th>\n",
       "      <td>0002_01</td>\n",
       "      <td>Earth</td>\n",
       "      <td>False</td>\n",
       "      <td>F/0/S</td>\n",
       "      <td>TRAPPIST-1e</td>\n",
       "      <td>24.0</td>\n",
       "      <td>False</td>\n",
       "      <td>109.0</td>\n",
       "      <td>9.0</td>\n",
       "      <td>25.0</td>\n",
       "      <td>549.0</td>\n",
       "      <td>44.0</td>\n",
       "      <td>Juanna Vines</td>\n",
       "      <td>True</td>\n",
       "    </tr>\n",
       "    <tr>\n",
       "      <th>2</th>\n",
       "      <td>0003_01</td>\n",
       "      <td>Europa</td>\n",
       "      <td>False</td>\n",
       "      <td>A/0/S</td>\n",
       "      <td>TRAPPIST-1e</td>\n",
       "      <td>58.0</td>\n",
       "      <td>True</td>\n",
       "      <td>43.0</td>\n",
       "      <td>3576.0</td>\n",
       "      <td>0.0</td>\n",
       "      <td>6715.0</td>\n",
       "      <td>49.0</td>\n",
       "      <td>Altark Susent</td>\n",
       "      <td>False</td>\n",
       "    </tr>\n",
       "    <tr>\n",
       "      <th>3</th>\n",
       "      <td>0003_02</td>\n",
       "      <td>Europa</td>\n",
       "      <td>False</td>\n",
       "      <td>A/0/S</td>\n",
       "      <td>TRAPPIST-1e</td>\n",
       "      <td>33.0</td>\n",
       "      <td>False</td>\n",
       "      <td>0.0</td>\n",
       "      <td>1283.0</td>\n",
       "      <td>371.0</td>\n",
       "      <td>3329.0</td>\n",
       "      <td>193.0</td>\n",
       "      <td>Solam Susent</td>\n",
       "      <td>False</td>\n",
       "    </tr>\n",
       "    <tr>\n",
       "      <th>4</th>\n",
       "      <td>0004_01</td>\n",
       "      <td>Earth</td>\n",
       "      <td>False</td>\n",
       "      <td>F/1/S</td>\n",
       "      <td>TRAPPIST-1e</td>\n",
       "      <td>16.0</td>\n",
       "      <td>False</td>\n",
       "      <td>303.0</td>\n",
       "      <td>70.0</td>\n",
       "      <td>151.0</td>\n",
       "      <td>565.0</td>\n",
       "      <td>2.0</td>\n",
       "      <td>Willy Santantines</td>\n",
       "      <td>True</td>\n",
       "    </tr>\n",
       "  </tbody>\n",
       "</table>\n",
       "</div>"
      ],
      "text/plain": [
       "  PassengerId HomePlanet CryoSleep  Cabin  Destination   Age    VIP  \\\n",
       "0     0001_01     Europa     False  B/0/P  TRAPPIST-1e  39.0  False   \n",
       "1     0002_01      Earth     False  F/0/S  TRAPPIST-1e  24.0  False   \n",
       "2     0003_01     Europa     False  A/0/S  TRAPPIST-1e  58.0   True   \n",
       "3     0003_02     Europa     False  A/0/S  TRAPPIST-1e  33.0  False   \n",
       "4     0004_01      Earth     False  F/1/S  TRAPPIST-1e  16.0  False   \n",
       "\n",
       "   RoomService  FoodCourt  ShoppingMall     Spa  VRDeck               Name  \\\n",
       "0          0.0        0.0           0.0     0.0     0.0    Maham Ofracculy   \n",
       "1        109.0        9.0          25.0   549.0    44.0       Juanna Vines   \n",
       "2         43.0     3576.0           0.0  6715.0    49.0      Altark Susent   \n",
       "3          0.0     1283.0         371.0  3329.0   193.0       Solam Susent   \n",
       "4        303.0       70.0         151.0   565.0     2.0  Willy Santantines   \n",
       "\n",
       "   Transported  \n",
       "0        False  \n",
       "1         True  \n",
       "2        False  \n",
       "3        False  \n",
       "4         True  "
      ]
     },
     "execution_count": 204,
     "metadata": {},
     "output_type": "execute_result"
    }
   ],
   "source": [
    "df.head()"
   ]
  },
  {
   "cell_type": "code",
   "execution_count": 205,
   "metadata": {},
   "outputs": [],
   "source": [
    "# it is easy to create a few new column at the same time\n",
    "df[[\"PassengerId_group\",\"PassengerId_num_in_group\"]] = pd.DataFrame(df[\"PassengerId\"].str.split('_', expand=True), index=df.index).astype('int32')"
   ]
  },
  {
   "cell_type": "code",
   "execution_count": 206,
   "metadata": {},
   "outputs": [],
   "source": [
    "# it is easy to create a few new column at the same time\n",
    "df[[\"Cabin_deck\",\"Cabin_num\",\"Cabin_side\"]] = pd.DataFrame(df[\"Cabin\"].str.split('/', expand=True), index=df.index)\n",
    "df['Cabin_num'] = df['Cabin_num'].fillna(-1).astype('int32')"
   ]
  },
  {
   "cell_type": "markdown",
   "metadata": {},
   "source": [
    "### EDA for additional columns"
   ]
  },
  {
   "cell_type": "code",
   "execution_count": 207,
   "metadata": {},
   "outputs": [
    {
     "data": {
      "text/plain": [
       "0    1\n",
       "1    2\n",
       "2    3\n",
       "3    3\n",
       "4    4\n",
       "Name: PassengerId_group, dtype: int32"
      ]
     },
     "metadata": {},
     "output_type": "display_data"
    },
    {
     "name": "stdout",
     "output_type": "stream",
     "text": [
      "Unique values: 6217   (Total records: 8693)\n",
      "Missing values: 0\n",
      "Missing values in %: 0.00\n",
      "--------------------------------------\n",
      "Minimum PassengerId_group: 1\n",
      "Maximum PassengerId_group: 9280\n",
      "Mean PassengerId_group: 4633.38962383527\n",
      "Median PassengerId_group: 4630.0\n",
      "--------------------------------------\n"
     ]
    }
   ],
   "source": [
    "common_statistics(df, \"PassengerId_group\")"
   ]
  },
  {
   "cell_type": "code",
   "execution_count": 208,
   "metadata": {},
   "outputs": [],
   "source": [
    "# Conclusion"
   ]
  },
  {
   "cell_type": "code",
   "execution_count": 209,
   "metadata": {},
   "outputs": [
    {
     "data": {
      "text/plain": [
       "0    1\n",
       "1    1\n",
       "2    1\n",
       "3    2\n",
       "4    1\n",
       "Name: PassengerId_num_in_group, dtype: int32"
      ]
     },
     "metadata": {},
     "output_type": "display_data"
    },
    {
     "name": "stdout",
     "output_type": "stream",
     "text": [
      "Unique values: 8   (Total records: 8693)\n",
      "Missing values: 0\n",
      "Missing values in %: 0.00\n",
      "--------------------------------------\n",
      "Minimum PassengerId_num_in_group: 1\n",
      "Maximum PassengerId_num_in_group: 8\n",
      "Mean PassengerId_num_in_group: 1.517772920740826\n",
      "Median PassengerId_num_in_group: 1.0\n",
      "--------------------------------------\n"
     ]
    }
   ],
   "source": [
    "common_statistics(df,\"PassengerId_num_in_group\")"
   ]
  },
  {
   "cell_type": "code",
   "execution_count": 210,
   "metadata": {},
   "outputs": [],
   "source": [
    "# Conclusion\n"
   ]
  },
  {
   "cell_type": "code",
   "execution_count": 211,
   "metadata": {},
   "outputs": [
    {
     "data": {
      "text/plain": [
       "0    B\n",
       "1    F\n",
       "2    A\n",
       "3    A\n",
       "4    F\n",
       "Name: Cabin_deck, dtype: object"
      ]
     },
     "metadata": {},
     "output_type": "display_data"
    },
    {
     "name": "stdout",
     "output_type": "stream",
     "text": [
      "Unique values: 8   (Total records: 8693)\n",
      "Missing values: 199\n",
      "Missing values in %: 2.29\n",
      "--------------------------------------\n"
     ]
    }
   ],
   "source": [
    "common_statistics(df,\"Cabin_deck\")"
   ]
  },
  {
   "cell_type": "code",
   "execution_count": 212,
   "metadata": {},
   "outputs": [
    {
     "data": {
      "text/plain": [
       "0    0\n",
       "1    0\n",
       "2    0\n",
       "3    0\n",
       "4    1\n",
       "Name: Cabin_num, dtype: int32"
      ]
     },
     "metadata": {},
     "output_type": "display_data"
    },
    {
     "name": "stdout",
     "output_type": "stream",
     "text": [
      "Unique values: 1818   (Total records: 8693)\n",
      "Missing values: 0\n",
      "Missing values in %: 0.00\n",
      "--------------------------------------\n",
      "Minimum Cabin_num: -1\n",
      "Maximum Cabin_num: 1894\n",
      "Mean Cabin_num: 586.6011733578741\n",
      "Median Cabin_num: 407.0\n",
      "--------------------------------------\n"
     ]
    }
   ],
   "source": [
    "common_statistics(df,\"Cabin_num\")"
   ]
  },
  {
   "cell_type": "code",
   "execution_count": 213,
   "metadata": {},
   "outputs": [],
   "source": [
    "# Conclusion\n",
    "# change into numeric"
   ]
  },
  {
   "cell_type": "code",
   "execution_count": 214,
   "metadata": {},
   "outputs": [
    {
     "data": {
      "text/plain": [
       "0    P\n",
       "1    S\n",
       "2    S\n",
       "3    S\n",
       "4    S\n",
       "Name: Cabin_side, dtype: object"
      ]
     },
     "metadata": {},
     "output_type": "display_data"
    },
    {
     "name": "stdout",
     "output_type": "stream",
     "text": [
      "Unique values: 2   (Total records: 8693)\n",
      "Missing values: 199\n",
      "Missing values in %: 2.29\n",
      "--------------------------------------\n"
     ]
    }
   ],
   "source": [
    "common_statistics(df,\"Cabin_side\")"
   ]
  },
  {
   "cell_type": "markdown",
   "metadata": {},
   "source": [
    "## VIP vs additional services"
   ]
  },
  {
   "cell_type": "code",
   "execution_count": 215,
   "metadata": {},
   "outputs": [
    {
     "data": {
      "text/plain": [
       "<AxesSubplot:xlabel='Cabin_deck', ylabel='count'>"
      ]
     },
     "execution_count": 215,
     "metadata": {},
     "output_type": "execute_result"
    },
    {
     "data": {
      "image/png": "[encoded data removed]",
      "text/plain": [
       "<Figure size 432x288 with 1 Axes>"
      ]
     },
     "metadata": {
      "needs_background": "light"
     },
     "output_type": "display_data"
    }
   ],
   "source": [
    "df_VIP = df[(df[\"VIP\"]) & (~df[\"VIP\"].isnull())]\n",
    "sns.countplot(data=df_VIP, x=\"Cabin_deck\")\n",
    "\n",
    "# df[\"RoomService\"]\n",
    "# df[\"FoodCourt\"]\n",
    "# df[\"ShoppingMall\"]\n",
    "# df[\"Spa\"]\n",
    "# df[\"VRDeck\"]"
   ]
  },
  {
   "cell_type": "code",
   "execution_count": 216,
   "metadata": {},
   "outputs": [
    {
     "data": {
      "text/plain": [
       "[Text(0, 0, '1811.39'),\n",
       " Text(0, 0, '473.615'),\n",
       " Text(0, 0, '247.727'),\n",
       " Text(0, 0, '760.711'),\n",
       " Text(0, 0, '1234.86')]"
      ]
     },
     "execution_count": 216,
     "metadata": {},
     "output_type": "execute_result"
    },
    {
     "data": {
      "image/png": "[encoded data removed]",
      "text/plain": [
       "<Figure size 432x288 with 1 Axes>"
      ]
     },
     "metadata": {
      "needs_background": "light"
     },
     "output_type": "display_data"
    }
   ],
   "source": [
    "df_VIP_additional_service = df_VIP[[\"PassengerId\",\"RoomService\",\"FoodCourt\",\"ShoppingMall\",\"Spa\",\"VRDeck\"]].melt(id_vars=[\"PassengerId\"]\n",
    "                                                                                                            ,var_name=\"AdditionalService\"\n",
    "                                                                                                            ,value_name=\"Value\")\n",
    "                                                                                                            \n",
    "ax = sns.barplot(data=df_VIP_additional_service.groupby(\"AdditionalService\").mean().reset_index(), x=\"AdditionalService\",y=\"Value\")\n",
    "ax.bar_label(ax.containers[0], label_type=\"center\")\n",
    "#x = sns.barplot(x=\"AdditionalService\", y=\"Value\", data=df_VIP_additional_service, estimator=sum)"
   ]
  },
  {
   "cell_type": "code",
   "execution_count": 217,
   "metadata": {},
   "outputs": [
    {
     "name": "stdout",
     "output_type": "stream",
     "text": [
      "Passengers without RoomService: 9.949748743718594 %\n",
      "Passengers without FoodCourt: 6.733668341708543 %\n",
      "Passengers without ShoppingMall: 10.854271356783919 %\n",
      "Passengers without Spa: 7.63819095477387 %\n",
      "Passengers without VRDeck: 7.738693467336684 %\n"
     ]
    }
   ],
   "source": [
    "for col in [\"RoomService\",\"FoodCourt\",\"ShoppingMall\",\"Spa\",\"VRDeck\"]:\n",
    "    percentage = (df_VIP_additional_service[(df_VIP_additional_service[\"AdditionalService\"]==col) & (df_VIP_additional_service[\"Value\"]==0)].shape[0])/(df_VIP_additional_service.shape[0])*100\n",
    "    print(f'Passengers without {col}: {percentage} %')"
   ]
  },
  {
   "cell_type": "markdown",
   "metadata": {},
   "source": [
    "# 3. Data preparation"
   ]
  },
  {
   "cell_type": "markdown",
   "metadata": {},
   "source": [
    "### Keep column list during EDA at the end of notebook to easy grab next one for analysis\n",
    "### Columns:\n",
    "PassengerId      object  \n",
    "HomePlanet       object  \n",
    "CryoSleep        object  \n",
    "Cabin            object  \n",
    "Destination      object  \n",
    "Age             float64  \n",
    "VIP              object  \n",
    "RoomService     float64  \n",
    "FoodCourt       float64  \n",
    "ShoppingMall    float64  \n",
    "Spa             float64  \n",
    "VRDeck          float64  \n",
    "Name             object  \n",
    "Transported        bool  "
   ]
  },
  {
   "cell_type": "markdown",
   "metadata": {},
   "source": [
    "### Steps:\n",
    "1. Move classification column (Transported) at the beggining\n",
    "2. Prepare columns:\n",
    "- deal with Nans\n",
    "- change types into numeric for: Passenger_group, Passenger_num_in_group, Cabin_num\n",
    "- categorical\\boolean values into numerical"
   ]
  },
  {
   "cell_type": "markdown",
   "metadata": {},
   "source": [
    "### Move classification column"
   ]
  },
  {
   "cell_type": "code",
   "execution_count": 218,
   "metadata": {},
   "outputs": [],
   "source": [
    "label_column = df.pop('Transported')"
   ]
  },
  {
   "cell_type": "code",
   "execution_count": 219,
   "metadata": {},
   "outputs": [],
   "source": [
    "df.insert(0,\"Transported\", label_column)"
   ]
  },
  {
   "cell_type": "markdown",
   "metadata": {},
   "source": [
    "### Deal with Nans"
   ]
  },
  {
   "cell_type": "markdown",
   "metadata": {},
   "source": [
    "#### check the impact of removing all NaNs"
   ]
  },
  {
   "cell_type": "code",
   "execution_count": 220,
   "metadata": {},
   "outputs": [
    {
     "name": "stdout",
     "output_type": "stream",
     "text": [
      "6606\n",
      "75.99217761417232\n"
     ]
    }
   ],
   "source": [
    "# NANs\n",
    "print(df.dropna().shape[0])\n",
    "print((df.dropna().shape[0]/df.shape[0])*100)"
   ]
  },
  {
   "cell_type": "markdown",
   "metadata": {},
   "source": [
    "## [conclusion]\n",
    "#### 75% of data are available after removing nans - not so bad so as first dataframe for preprocessing remove all rows with missing values"
   ]
  },
  {
   "cell_type": "code",
   "execution_count": 307,
   "metadata": {},
   "outputs": [],
   "source": [
    "df_train_removed_nans = df.dropna()"
   ]
  },
  {
   "cell_type": "markdown",
   "metadata": {},
   "source": [
    "## [conclusion]\n",
    "### but lets prepare a few more dataframes where nans will be filled to check later the impact of that for modelling"
   ]
  },
  {
   "cell_type": "code",
   "execution_count": 316,
   "metadata": {},
   "outputs": [
    {
     "name": "stdout",
     "output_type": "stream",
     "text": [
      "how many rows have more then half of features are NaNs: 100.0\n",
      "how many rows have more then half of features are NaNs: 99.94248245714942\n"
     ]
    }
   ],
   "source": [
    "drop_half_nans = df.dropna(thresh=math.ceil(len(df.columns)/2)).shape[0]\n",
    "print(\"how many rows have more then half of features are NaNs: {}\".format((drop_half_nans/df.shape[0])*100))\n",
    "\n",
    "drop_quarter_nans = df.dropna(thresh=math.ceil(len(df.columns)*3/4)).shape[0]\n",
    "print(\"how many rows have more then quarter of features are NaNs: {}\".format((drop_quarter_nans/df.shape[0])*100))"
   ]
  },
  {
   "cell_type": "markdown",
   "metadata": {},
   "source": [
    "#### 99% of reord have filled rows in more than 75% so there is potential to handle with nans"
   ]
  },
  {
   "cell_type": "markdown",
   "metadata": {},
   "source": [
    "# [TO_DO]\n",
    "missing value imputation"
   ]
  },
  {
   "cell_type": "markdown",
   "metadata": {},
   "source": [
    "# [way of thinking] create lists of columns with the same type to potentially work with them togheter"
   ]
  },
  {
   "cell_type": "code",
   "execution_count": 222,
   "metadata": {},
   "outputs": [],
   "source": [
    "boolean_columns = ['CryoSleep','VIP']\n",
    "numeric_columns_for_scaling = [ 'RoomService','FoodCourt','ShoppingMall','Spa','VRDeck']\n",
    "categorical_columns = ['HomePlanet', 'Destination','Cabin_deck','Cabin_side']\n",
    "numeric_columns = ['Age','Cabin_num','PassengerId_group','PassengerId_num_in_group']\n",
    "rest_columns = ['Name'] # in case to be useful\n",
    "columns_to_remove = ['Cabin', 'PassengerId'] # columns were splited into detail; no more needed"
   ]
  },
  {
   "cell_type": "markdown",
   "metadata": {},
   "source": [
    "categorical columns:  \n",
    "HomePlanet - 3 values  \n",
    "CryoSleep          true/false  \n",
    "Passenger_group  \n",
    "Passenger_num_in_group  \n",
    "Cabin_deck  - 8 values\n",
    "Cabin_side - 2 values  \n",
    "Destination - 3 values  \n",
    "VIP                true/false  \n",
    "\n",
    "\n"
   ]
  },
  {
   "cell_type": "code",
   "execution_count": 223,
   "metadata": {},
   "outputs": [],
   "source": [
    "# categorical features\n",
    "# pandas approach\n",
    "# get_dummies\n",
    "# factorize for cat. more than 2\n",
    "# map for boolean\n",
    "# use pipe for whole process "
   ]
  },
  {
   "cell_type": "code",
   "execution_count": 224,
   "metadata": {},
   "outputs": [],
   "source": [
    "def copy_df(df):\n",
    "    return df.copy()\n",
    "\n",
    "def categories_into_numbers(df, column_names: list = None):\n",
    "    if not isinstance(column_names, list):\n",
    "        df[column_names] = pd.factorize(df[column_names])[0]\n",
    "    else:\n",
    "        for col_name in column_names:\n",
    "            df[col_name] = pd.factorize(df[col_name])[0]\n",
    "\n",
    "    return df \n",
    "\n",
    "def booleans_into_numbers(df, column_names: list = None):\n",
    "    boolean_dict = {False:0, True: 1}\n",
    "\n",
    "    if not isinstance(column_names, list):\n",
    "        df[column_names] = df[column_names].map(boolean_dict)\n",
    "    else:\n",
    "        for col_name in column_names:\n",
    "            df[col_name] = df[col_name].map(boolean_dict)\n",
    "\n",
    "    return df \n",
    "    \n",
    "\n",
    "# easy to implement other standarization or normalization methods\n",
    "def numeric_scaling_minmax(df, column_names: list = None, feature_range=(0, 1)):\n",
    "    min_range = feature_range[0]\n",
    "    max_range = feature_range[1]\n",
    "\n",
    "    if not isinstance(column_names, list):\n",
    "        col_std = (df[column_names] - df[column_names].min()) / (df[column_names].max() - df[column_names].min())\n",
    "        df[column_names] = col_std * (max_range - min_range) + min_range\n",
    "    else:\n",
    "        for col_name in column_names:\n",
    "            col_std = (df[col_name] - df[col_name].min()) / (df[col_name].max() - df[col_name].min())\n",
    "            df[col_name] = col_std * (max_range - min_range) + min_range\n",
    "\n",
    "    return df \n",
    "\n",
    "def remove_columns(df, column_names: list = None):\n",
    "    return df.drop(column_names, axis=1)\n",
    "\n",
    "\n",
    "   "
   ]
  },
  {
   "cell_type": "code",
   "execution_count": 225,
   "metadata": {},
   "outputs": [
    {
     "data": {
      "text/html": [
       "<div>\n",
       "<style scoped>\n",
       "    .dataframe tbody tr th:only-of-type {\n",
       "        vertical-align: middle;\n",
       "    }\n",
       "\n",
       "    .dataframe tbody tr th {\n",
       "        vertical-align: top;\n",
       "    }\n",
       "\n",
       "    .dataframe thead th {\n",
       "        text-align: right;\n",
       "    }\n",
       "</style>\n",
       "<table border=\"1\" class=\"dataframe\">\n",
       "  <thead>\n",
       "    <tr style=\"text-align: right;\">\n",
       "      <th></th>\n",
       "      <th>Transported</th>\n",
       "      <th>HomePlanet</th>\n",
       "      <th>CryoSleep</th>\n",
       "      <th>Destination</th>\n",
       "      <th>Age</th>\n",
       "      <th>VIP</th>\n",
       "      <th>RoomService</th>\n",
       "      <th>FoodCourt</th>\n",
       "      <th>ShoppingMall</th>\n",
       "      <th>Spa</th>\n",
       "      <th>VRDeck</th>\n",
       "      <th>PassengerId_group</th>\n",
       "      <th>PassengerId_num_in_group</th>\n",
       "      <th>Cabin_deck</th>\n",
       "      <th>Cabin_num</th>\n",
       "      <th>Cabin_side</th>\n",
       "    </tr>\n",
       "  </thead>\n",
       "  <tbody>\n",
       "    <tr>\n",
       "      <th>0</th>\n",
       "      <td>False</td>\n",
       "      <td>0</td>\n",
       "      <td>0</td>\n",
       "      <td>0</td>\n",
       "      <td>39.0</td>\n",
       "      <td>0</td>\n",
       "      <td>0.000000</td>\n",
       "      <td>0.000000</td>\n",
       "      <td>0.000000</td>\n",
       "      <td>0.000000</td>\n",
       "      <td>0.000000</td>\n",
       "      <td>1</td>\n",
       "      <td>1</td>\n",
       "      <td>0</td>\n",
       "      <td>0</td>\n",
       "      <td>0</td>\n",
       "    </tr>\n",
       "    <tr>\n",
       "      <th>1</th>\n",
       "      <td>True</td>\n",
       "      <td>1</td>\n",
       "      <td>0</td>\n",
       "      <td>0</td>\n",
       "      <td>24.0</td>\n",
       "      <td>0</td>\n",
       "      <td>0.010988</td>\n",
       "      <td>0.000302</td>\n",
       "      <td>0.002040</td>\n",
       "      <td>0.024500</td>\n",
       "      <td>0.002164</td>\n",
       "      <td>2</td>\n",
       "      <td>1</td>\n",
       "      <td>1</td>\n",
       "      <td>0</td>\n",
       "      <td>1</td>\n",
       "    </tr>\n",
       "    <tr>\n",
       "      <th>2</th>\n",
       "      <td>False</td>\n",
       "      <td>0</td>\n",
       "      <td>0</td>\n",
       "      <td>0</td>\n",
       "      <td>58.0</td>\n",
       "      <td>1</td>\n",
       "      <td>0.004335</td>\n",
       "      <td>0.119948</td>\n",
       "      <td>0.000000</td>\n",
       "      <td>0.299670</td>\n",
       "      <td>0.002410</td>\n",
       "      <td>3</td>\n",
       "      <td>1</td>\n",
       "      <td>2</td>\n",
       "      <td>0</td>\n",
       "      <td>1</td>\n",
       "    </tr>\n",
       "    <tr>\n",
       "      <th>3</th>\n",
       "      <td>False</td>\n",
       "      <td>0</td>\n",
       "      <td>0</td>\n",
       "      <td>0</td>\n",
       "      <td>33.0</td>\n",
       "      <td>0</td>\n",
       "      <td>0.000000</td>\n",
       "      <td>0.043035</td>\n",
       "      <td>0.030278</td>\n",
       "      <td>0.148563</td>\n",
       "      <td>0.009491</td>\n",
       "      <td>3</td>\n",
       "      <td>2</td>\n",
       "      <td>2</td>\n",
       "      <td>0</td>\n",
       "      <td>1</td>\n",
       "    </tr>\n",
       "    <tr>\n",
       "      <th>4</th>\n",
       "      <td>True</td>\n",
       "      <td>1</td>\n",
       "      <td>0</td>\n",
       "      <td>0</td>\n",
       "      <td>16.0</td>\n",
       "      <td>0</td>\n",
       "      <td>0.030544</td>\n",
       "      <td>0.002348</td>\n",
       "      <td>0.012324</td>\n",
       "      <td>0.025214</td>\n",
       "      <td>0.000098</td>\n",
       "      <td>4</td>\n",
       "      <td>1</td>\n",
       "      <td>1</td>\n",
       "      <td>1</td>\n",
       "      <td>1</td>\n",
       "    </tr>\n",
       "  </tbody>\n",
       "</table>\n",
       "</div>"
      ],
      "text/plain": [
       "   Transported  HomePlanet  CryoSleep  Destination   Age  VIP  RoomService  \\\n",
       "0        False           0          0            0  39.0    0     0.000000   \n",
       "1         True           1          0            0  24.0    0     0.010988   \n",
       "2        False           0          0            0  58.0    1     0.004335   \n",
       "3        False           0          0            0  33.0    0     0.000000   \n",
       "4         True           1          0            0  16.0    0     0.030544   \n",
       "\n",
       "   FoodCourt  ShoppingMall       Spa    VRDeck  PassengerId_group  \\\n",
       "0   0.000000      0.000000  0.000000  0.000000                  1   \n",
       "1   0.000302      0.002040  0.024500  0.002164                  2   \n",
       "2   0.119948      0.000000  0.299670  0.002410                  3   \n",
       "3   0.043035      0.030278  0.148563  0.009491                  3   \n",
       "4   0.002348      0.012324  0.025214  0.000098                  4   \n",
       "\n",
       "   PassengerId_num_in_group  Cabin_deck  Cabin_num  Cabin_side  \n",
       "0                         1           0          0           0  \n",
       "1                         1           1          0           1  \n",
       "2                         1           2          0           1  \n",
       "3                         2           2          0           1  \n",
       "4                         1           1          1           1  "
      ]
     },
     "execution_count": 225,
     "metadata": {},
     "output_type": "execute_result"
    }
   ],
   "source": [
    "df_preproc_pandas = (df_train_removed_nans.pipe(copy_df)\n",
    "                    .pipe(categories_into_numbers, column_names = categorical_columns)\n",
    "                    .pipe(booleans_into_numbers, column_names= boolean_columns)\n",
    "                    .pipe(numeric_scaling_minmax, column_names = numeric_columns_for_scaling)\n",
    "                    .pipe(remove_columns, column_names= columns_to_remove)\n",
    "                    .pipe(remove_columns, column_names= rest_columns)\n",
    "                    )\n",
    "#df_preproc_pandas.drop(columns_to_remove, axis=1, inplace=True)\n",
    "df_preproc_pandas.head()"
   ]
  },
  {
   "cell_type": "code",
   "execution_count": 226,
   "metadata": {},
   "outputs": [],
   "source": [
    "# categorical features\n",
    "# sklearn approach\n",
    "## one-hot encoder, labelEncoder\n",
    "# make_column_transformer"
   ]
  },
  {
   "cell_type": "code",
   "execution_count": 227,
   "metadata": {},
   "outputs": [],
   "source": [
    "from sklearn.preprocessing import MinMaxScaler, OneHotEncoder\n",
    "from sklearn.compose import make_column_transformer"
   ]
  },
  {
   "cell_type": "markdown",
   "metadata": {},
   "source": [
    "# [thinking path] create custom transformers "
   ]
  },
  {
   "cell_type": "code",
   "execution_count": 228,
   "metadata": {},
   "outputs": [],
   "source": [
    "df_preproc_sklearn = df_train_removed_nans.copy()\n",
    "\n",
    "df_preproc_sklearn.drop(columns_to_remove, axis=1, inplace=True)\n",
    "df_preproc_sklearn.drop(rest_columns, axis=1, inplace=True)\n",
    "labels = df_preproc_sklearn['Transported'].values\n",
    "df_preproc_sklearn.drop(columns=\"Transported\", axis=1, inplace=True)\n",
    "\n",
    "transformer = make_column_transformer(\n",
    "    (OneHotEncoder(handle_unknown='ignore'), categorical_columns ) # defining handle_unknow is needed for test dataset, where is possibily to get new unseen in train set value\n",
    "    ,(OneHotEncoder(), boolean_columns)\n",
    "    ,(MinMaxScaler(), numeric_columns_for_scaling)\n",
    "    ,remainder='passthrough')\n",
    "\n",
    "data_transformer = transformer.fit(df_preproc_sklearn)\n",
    "preproc_sklearn = data_transformer.transform(df_preproc_sklearn)\n"
   ]
  },
  {
   "cell_type": "code",
   "execution_count": 229,
   "metadata": {},
   "outputs": [],
   "source": [
    "## add classification column to narray\n",
    "preproc_sklearn = np.c_[labels,preproc_sklearn]"
   ]
  },
  {
   "cell_type": "code",
   "execution_count": 304,
   "metadata": {},
   "outputs": [
    {
     "data": {
      "text/html": [
       "<div>\n",
       "<style scoped>\n",
       "    .dataframe tbody tr th:only-of-type {\n",
       "        vertical-align: middle;\n",
       "    }\n",
       "\n",
       "    .dataframe tbody tr th {\n",
       "        vertical-align: top;\n",
       "    }\n",
       "\n",
       "    .dataframe thead th {\n",
       "        text-align: right;\n",
       "    }\n",
       "</style>\n",
       "<table border=\"1\" class=\"dataframe\">\n",
       "  <thead>\n",
       "    <tr style=\"text-align: right;\">\n",
       "      <th></th>\n",
       "      <th>HomePlanet</th>\n",
       "      <th>CryoSleep</th>\n",
       "      <th>Destination</th>\n",
       "      <th>Age</th>\n",
       "      <th>VIP</th>\n",
       "      <th>RoomService</th>\n",
       "      <th>FoodCourt</th>\n",
       "      <th>ShoppingMall</th>\n",
       "      <th>Spa</th>\n",
       "      <th>VRDeck</th>\n",
       "      <th>PassengerId_group</th>\n",
       "      <th>PassengerId_num_in_group</th>\n",
       "      <th>Cabin_deck</th>\n",
       "      <th>Cabin_num</th>\n",
       "      <th>Cabin_side</th>\n",
       "    </tr>\n",
       "  </thead>\n",
       "  <tbody>\n",
       "    <tr>\n",
       "      <th>0</th>\n",
       "      <td>Europa</td>\n",
       "      <td>False</td>\n",
       "      <td>TRAPPIST-1e</td>\n",
       "      <td>39.0</td>\n",
       "      <td>False</td>\n",
       "      <td>0.0</td>\n",
       "      <td>0.0</td>\n",
       "      <td>0.0</td>\n",
       "      <td>0.0</td>\n",
       "      <td>0.0</td>\n",
       "      <td>1</td>\n",
       "      <td>1</td>\n",
       "      <td>B</td>\n",
       "      <td>0</td>\n",
       "      <td>P</td>\n",
       "    </tr>\n",
       "    <tr>\n",
       "      <th>1</th>\n",
       "      <td>Earth</td>\n",
       "      <td>False</td>\n",
       "      <td>TRAPPIST-1e</td>\n",
       "      <td>24.0</td>\n",
       "      <td>False</td>\n",
       "      <td>109.0</td>\n",
       "      <td>9.0</td>\n",
       "      <td>25.0</td>\n",
       "      <td>549.0</td>\n",
       "      <td>44.0</td>\n",
       "      <td>2</td>\n",
       "      <td>1</td>\n",
       "      <td>F</td>\n",
       "      <td>0</td>\n",
       "      <td>S</td>\n",
       "    </tr>\n",
       "    <tr>\n",
       "      <th>2</th>\n",
       "      <td>Europa</td>\n",
       "      <td>False</td>\n",
       "      <td>TRAPPIST-1e</td>\n",
       "      <td>58.0</td>\n",
       "      <td>True</td>\n",
       "      <td>43.0</td>\n",
       "      <td>3576.0</td>\n",
       "      <td>0.0</td>\n",
       "      <td>6715.0</td>\n",
       "      <td>49.0</td>\n",
       "      <td>3</td>\n",
       "      <td>1</td>\n",
       "      <td>A</td>\n",
       "      <td>0</td>\n",
       "      <td>S</td>\n",
       "    </tr>\n",
       "    <tr>\n",
       "      <th>3</th>\n",
       "      <td>Europa</td>\n",
       "      <td>False</td>\n",
       "      <td>TRAPPIST-1e</td>\n",
       "      <td>33.0</td>\n",
       "      <td>False</td>\n",
       "      <td>0.0</td>\n",
       "      <td>1283.0</td>\n",
       "      <td>371.0</td>\n",
       "      <td>3329.0</td>\n",
       "      <td>193.0</td>\n",
       "      <td>3</td>\n",
       "      <td>2</td>\n",
       "      <td>A</td>\n",
       "      <td>0</td>\n",
       "      <td>S</td>\n",
       "    </tr>\n",
       "    <tr>\n",
       "      <th>4</th>\n",
       "      <td>Earth</td>\n",
       "      <td>False</td>\n",
       "      <td>TRAPPIST-1e</td>\n",
       "      <td>16.0</td>\n",
       "      <td>False</td>\n",
       "      <td>303.0</td>\n",
       "      <td>70.0</td>\n",
       "      <td>151.0</td>\n",
       "      <td>565.0</td>\n",
       "      <td>2.0</td>\n",
       "      <td>4</td>\n",
       "      <td>1</td>\n",
       "      <td>F</td>\n",
       "      <td>1</td>\n",
       "      <td>S</td>\n",
       "    </tr>\n",
       "  </tbody>\n",
       "</table>\n",
       "</div>"
      ],
      "text/plain": [
       "  HomePlanet CryoSleep  Destination   Age    VIP  RoomService  FoodCourt  \\\n",
       "0     Europa     False  TRAPPIST-1e  39.0  False          0.0        0.0   \n",
       "1      Earth     False  TRAPPIST-1e  24.0  False        109.0        9.0   \n",
       "2     Europa     False  TRAPPIST-1e  58.0   True         43.0     3576.0   \n",
       "3     Europa     False  TRAPPIST-1e  33.0  False          0.0     1283.0   \n",
       "4      Earth     False  TRAPPIST-1e  16.0  False        303.0       70.0   \n",
       "\n",
       "   ShoppingMall     Spa  VRDeck  PassengerId_group  PassengerId_num_in_group  \\\n",
       "0           0.0     0.0     0.0                  1                         1   \n",
       "1          25.0   549.0    44.0                  2                         1   \n",
       "2           0.0  6715.0    49.0                  3                         1   \n",
       "3         371.0  3329.0   193.0                  3                         2   \n",
       "4         151.0   565.0     2.0                  4                         1   \n",
       "\n",
       "  Cabin_deck  Cabin_num Cabin_side  \n",
       "0          B          0          P  \n",
       "1          F          0          S  \n",
       "2          A          0          S  \n",
       "3          A          0          S  \n",
       "4          F          1          S  "
      ]
     },
     "execution_count": 304,
     "metadata": {},
     "output_type": "execute_result"
    }
   ],
   "source": [
    "df_preproc_sklearn.head()"
   ]
  },
  {
   "cell_type": "code",
   "execution_count": 303,
   "metadata": {},
   "outputs": [
    {
     "data": {
      "text/plain": [
       "array([1.00000000e+00, 1.00000000e+00, 0.00000000e+00, 0.00000000e+00,\n",
       "       0.00000000e+00, 0.00000000e+00, 1.00000000e+00, 0.00000000e+00,\n",
       "       0.00000000e+00, 0.00000000e+00, 0.00000000e+00, 0.00000000e+00,\n",
       "       1.00000000e+00, 0.00000000e+00, 0.00000000e+00, 0.00000000e+00,\n",
       "       1.00000000e+00, 1.00000000e+00, 0.00000000e+00, 1.00000000e+00,\n",
       "       0.00000000e+00, 1.09879032e-02, 3.01881729e-04, 2.04031666e-03,\n",
       "       2.45001785e-02, 2.16365067e-03, 2.40000000e+01, 2.00000000e+00,\n",
       "       1.00000000e+00, 0.00000000e+00])"
      ]
     },
     "execution_count": 303,
     "metadata": {},
     "output_type": "execute_result"
    }
   ],
   "source": [
    "preproc_sklearn[1,]"
   ]
  },
  {
   "cell_type": "code",
   "execution_count": 231,
   "metadata": {},
   "outputs": [
    {
     "data": {
      "text/html": [
       "<style>#sk-container-id-3 {color: black;background-color: white;}#sk-container-id-3 pre{padding: 0;}#sk-container-id-3 div.sk-toggleable {background-color: white;}#sk-container-id-3 label.sk-toggleable__label {cursor: pointer;display: block;width: 100%;margin-bottom: 0;padding: 0.3em;box-sizing: border-box;text-align: center;}#sk-container-id-3 label.sk-toggleable__label-arrow:before {content: \"▸\";float: left;margin-right: 0.25em;color: #696969;}#sk-container-id-3 label.sk-toggleable__label-arrow:hover:before {color: black;}#sk-container-id-3 div.sk-estimator:hover label.sk-toggleable__label-arrow:before {color: black;}#sk-container-id-3 div.sk-toggleable__content {max-height: 0;max-width: 0;overflow: hidden;text-align: left;background-color: #f0f8ff;}#sk-container-id-3 div.sk-toggleable__content pre {margin: 0.2em;color: black;border-radius: 0.25em;background-color: #f0f8ff;}#sk-container-id-3 input.sk-toggleable__control:checked~div.sk-toggleable__content {max-height: 200px;max-width: 100%;overflow: auto;}#sk-container-id-3 input.sk-toggleable__control:checked~label.sk-toggleable__label-arrow:before {content: \"▾\";}#sk-container-id-3 div.sk-estimator input.sk-toggleable__control:checked~label.sk-toggleable__label {background-color: #d4ebff;}#sk-container-id-3 div.sk-label input.sk-toggleable__control:checked~label.sk-toggleable__label {background-color: #d4ebff;}#sk-container-id-3 input.sk-hidden--visually {border: 0;clip: rect(1px 1px 1px 1px);clip: rect(1px, 1px, 1px, 1px);height: 1px;margin: -1px;overflow: hidden;padding: 0;position: absolute;width: 1px;}#sk-container-id-3 div.sk-estimator {font-family: monospace;background-color: #f0f8ff;border: 1px dotted black;border-radius: 0.25em;box-sizing: border-box;margin-bottom: 0.5em;}#sk-container-id-3 div.sk-estimator:hover {background-color: #d4ebff;}#sk-container-id-3 div.sk-parallel-item::after {content: \"\";width: 100%;border-bottom: 1px solid gray;flex-grow: 1;}#sk-container-id-3 div.sk-label:hover label.sk-toggleable__label {background-color: #d4ebff;}#sk-container-id-3 div.sk-serial::before {content: \"\";position: absolute;border-left: 1px solid gray;box-sizing: border-box;top: 0;bottom: 0;left: 50%;z-index: 0;}#sk-container-id-3 div.sk-serial {display: flex;flex-direction: column;align-items: center;background-color: white;padding-right: 0.2em;padding-left: 0.2em;position: relative;}#sk-container-id-3 div.sk-item {position: relative;z-index: 1;}#sk-container-id-3 div.sk-parallel {display: flex;align-items: stretch;justify-content: center;background-color: white;position: relative;}#sk-container-id-3 div.sk-item::before, #sk-container-id-3 div.sk-parallel-item::before {content: \"\";position: absolute;border-left: 1px solid gray;box-sizing: border-box;top: 0;bottom: 0;left: 50%;z-index: -1;}#sk-container-id-3 div.sk-parallel-item {display: flex;flex-direction: column;z-index: 1;position: relative;background-color: white;}#sk-container-id-3 div.sk-parallel-item:first-child::after {align-self: flex-end;width: 50%;}#sk-container-id-3 div.sk-parallel-item:last-child::after {align-self: flex-start;width: 50%;}#sk-container-id-3 div.sk-parallel-item:only-child::after {width: 0;}#sk-container-id-3 div.sk-dashed-wrapped {border: 1px dashed gray;margin: 0 0.4em 0.5em 0.4em;box-sizing: border-box;padding-bottom: 0.4em;background-color: white;}#sk-container-id-3 div.sk-label label {font-family: monospace;font-weight: bold;display: inline-block;line-height: 1.2em;}#sk-container-id-3 div.sk-label-container {text-align: center;}#sk-container-id-3 div.sk-container {/* jupyter's `normalize.less` sets `[hidden] { display: none; }` but bootstrap.min.css set `[hidden] { display: none !important; }` so we also need the `!important` here to be able to override the default hidden behavior on the sphinx rendered scikit-learn.org. See: https://github.com/scikit-learn/scikit-learn/issues/21755 */display: inline-block !important;position: relative;}#sk-container-id-3 div.sk-text-repr-fallback {display: none;}</style><div id=\"sk-container-id-3\" class=\"sk-top-container\"><div class=\"sk-text-repr-fallback\"><pre>ColumnTransformer(remainder=&#x27;passthrough&#x27;,\n",
       "                  transformers=[(&#x27;onehotencoder-1&#x27;,\n",
       "                                 OneHotEncoder(handle_unknown=&#x27;ignore&#x27;),\n",
       "                                 [&#x27;HomePlanet&#x27;, &#x27;Destination&#x27;, &#x27;Cabin_deck&#x27;,\n",
       "                                  &#x27;Cabin_side&#x27;]),\n",
       "                                (&#x27;onehotencoder-2&#x27;, OneHotEncoder(),\n",
       "                                 [&#x27;CryoSleep&#x27;, &#x27;VIP&#x27;]),\n",
       "                                (&#x27;minmaxscaler&#x27;, MinMaxScaler(),\n",
       "                                 [&#x27;RoomService&#x27;, &#x27;FoodCourt&#x27;, &#x27;ShoppingMall&#x27;,\n",
       "                                  &#x27;Spa&#x27;, &#x27;VRDeck&#x27;])])</pre><b>In a Jupyter environment, please rerun this cell to show the HTML representation or trust the notebook. <br />On GitHub, the HTML representation is unable to render, please try loading this page with nbviewer.org.</b></div><div class=\"sk-container\" hidden><div class=\"sk-item sk-dashed-wrapped\"><div class=\"sk-label-container\"><div class=\"sk-label sk-toggleable\"><input class=\"sk-toggleable__control sk-hidden--visually\" id=\"sk-estimator-id-19\" type=\"checkbox\" ><label for=\"sk-estimator-id-19\" class=\"sk-toggleable__label sk-toggleable__label-arrow\">ColumnTransformer</label><div class=\"sk-toggleable__content\"><pre>ColumnTransformer(remainder=&#x27;passthrough&#x27;,\n",
       "                  transformers=[(&#x27;onehotencoder-1&#x27;,\n",
       "                                 OneHotEncoder(handle_unknown=&#x27;ignore&#x27;),\n",
       "                                 [&#x27;HomePlanet&#x27;, &#x27;Destination&#x27;, &#x27;Cabin_deck&#x27;,\n",
       "                                  &#x27;Cabin_side&#x27;]),\n",
       "                                (&#x27;onehotencoder-2&#x27;, OneHotEncoder(),\n",
       "                                 [&#x27;CryoSleep&#x27;, &#x27;VIP&#x27;]),\n",
       "                                (&#x27;minmaxscaler&#x27;, MinMaxScaler(),\n",
       "                                 [&#x27;RoomService&#x27;, &#x27;FoodCourt&#x27;, &#x27;ShoppingMall&#x27;,\n",
       "                                  &#x27;Spa&#x27;, &#x27;VRDeck&#x27;])])</pre></div></div></div><div class=\"sk-parallel\"><div class=\"sk-parallel-item\"><div class=\"sk-item\"><div class=\"sk-label-container\"><div class=\"sk-label sk-toggleable\"><input class=\"sk-toggleable__control sk-hidden--visually\" id=\"sk-estimator-id-20\" type=\"checkbox\" ><label for=\"sk-estimator-id-20\" class=\"sk-toggleable__label sk-toggleable__label-arrow\">onehotencoder-1</label><div class=\"sk-toggleable__content\"><pre>[&#x27;HomePlanet&#x27;, &#x27;Destination&#x27;, &#x27;Cabin_deck&#x27;, &#x27;Cabin_side&#x27;]</pre></div></div></div><div class=\"sk-serial\"><div class=\"sk-item\"><div class=\"sk-estimator sk-toggleable\"><input class=\"sk-toggleable__control sk-hidden--visually\" id=\"sk-estimator-id-21\" type=\"checkbox\" ><label for=\"sk-estimator-id-21\" class=\"sk-toggleable__label sk-toggleable__label-arrow\">OneHotEncoder</label><div class=\"sk-toggleable__content\"><pre>OneHotEncoder(handle_unknown=&#x27;ignore&#x27;)</pre></div></div></div></div></div></div><div class=\"sk-parallel-item\"><div class=\"sk-item\"><div class=\"sk-label-container\"><div class=\"sk-label sk-toggleable\"><input class=\"sk-toggleable__control sk-hidden--visually\" id=\"sk-estimator-id-22\" type=\"checkbox\" ><label for=\"sk-estimator-id-22\" class=\"sk-toggleable__label sk-toggleable__label-arrow\">onehotencoder-2</label><div class=\"sk-toggleable__content\"><pre>[&#x27;CryoSleep&#x27;, &#x27;VIP&#x27;]</pre></div></div></div><div class=\"sk-serial\"><div class=\"sk-item\"><div class=\"sk-estimator sk-toggleable\"><input class=\"sk-toggleable__control sk-hidden--visually\" id=\"sk-estimator-id-23\" type=\"checkbox\" ><label for=\"sk-estimator-id-23\" class=\"sk-toggleable__label sk-toggleable__label-arrow\">OneHotEncoder</label><div class=\"sk-toggleable__content\"><pre>OneHotEncoder()</pre></div></div></div></div></div></div><div class=\"sk-parallel-item\"><div class=\"sk-item\"><div class=\"sk-label-container\"><div class=\"sk-label sk-toggleable\"><input class=\"sk-toggleable__control sk-hidden--visually\" id=\"sk-estimator-id-24\" type=\"checkbox\" ><label for=\"sk-estimator-id-24\" class=\"sk-toggleable__label sk-toggleable__label-arrow\">minmaxscaler</label><div class=\"sk-toggleable__content\"><pre>[&#x27;RoomService&#x27;, &#x27;FoodCourt&#x27;, &#x27;ShoppingMall&#x27;, &#x27;Spa&#x27;, &#x27;VRDeck&#x27;]</pre></div></div></div><div class=\"sk-serial\"><div class=\"sk-item\"><div class=\"sk-estimator sk-toggleable\"><input class=\"sk-toggleable__control sk-hidden--visually\" id=\"sk-estimator-id-25\" type=\"checkbox\" ><label for=\"sk-estimator-id-25\" class=\"sk-toggleable__label sk-toggleable__label-arrow\">MinMaxScaler</label><div class=\"sk-toggleable__content\"><pre>MinMaxScaler()</pre></div></div></div></div></div></div><div class=\"sk-parallel-item\"><div class=\"sk-item\"><div class=\"sk-label-container\"><div class=\"sk-label sk-toggleable\"><input class=\"sk-toggleable__control sk-hidden--visually\" id=\"sk-estimator-id-26\" type=\"checkbox\" ><label for=\"sk-estimator-id-26\" class=\"sk-toggleable__label sk-toggleable__label-arrow\">remainder</label><div class=\"sk-toggleable__content\"><pre>[&#x27;Age&#x27;, &#x27;PassengerId_group&#x27;, &#x27;PassengerId_num_in_group&#x27;, &#x27;Cabin_num&#x27;]</pre></div></div></div><div class=\"sk-serial\"><div class=\"sk-item\"><div class=\"sk-estimator sk-toggleable\"><input class=\"sk-toggleable__control sk-hidden--visually\" id=\"sk-estimator-id-27\" type=\"checkbox\" ><label for=\"sk-estimator-id-27\" class=\"sk-toggleable__label sk-toggleable__label-arrow\">passthrough</label><div class=\"sk-toggleable__content\"><pre>passthrough</pre></div></div></div></div></div></div></div></div></div></div>"
      ],
      "text/plain": [
       "ColumnTransformer(remainder='passthrough',\n",
       "                  transformers=[('onehotencoder-1',\n",
       "                                 OneHotEncoder(handle_unknown='ignore'),\n",
       "                                 ['HomePlanet', 'Destination', 'Cabin_deck',\n",
       "                                  'Cabin_side']),\n",
       "                                ('onehotencoder-2', OneHotEncoder(),\n",
       "                                 ['CryoSleep', 'VIP']),\n",
       "                                ('minmaxscaler', MinMaxScaler(),\n",
       "                                 ['RoomService', 'FoodCourt', 'ShoppingMall',\n",
       "                                  'Spa', 'VRDeck'])])"
      ]
     },
     "execution_count": 231,
     "metadata": {},
     "output_type": "execute_result"
    }
   ],
   "source": [
    "data_transformer"
   ]
  },
  {
   "cell_type": "markdown",
   "metadata": {},
   "source": [
    "# [way of thinking] [note] \"transformer\" will be also used on test set, that is the reason why *fit* and *transfort* are separated. transformer also could be save as pikle"
   ]
  },
  {
   "cell_type": "code",
   "execution_count": 232,
   "metadata": {},
   "outputs": [],
   "source": [
    "## choose train dataset\n",
    "# train = df_preproc_pandas\n",
    "train_data = preproc_sklearn"
   ]
  },
  {
   "cell_type": "code",
   "execution_count": 233,
   "metadata": {},
   "outputs": [],
   "source": [
    "## save cleansed data\n",
    "processed_path = os.path.join(\"data\",\"processed\")\n",
    "if not os.path.exists(processed_path):\n",
    "    os.makedirs(processed_path)\n",
    "processed_data_filename = os.path.join(processed_path, \"processed_data.pkl\")\n",
    "labels_filename = os.path.join(processed_path, \"y_train.pkl\")\n",
    "#save processed data\n",
    "dump(train_data, open(processed_data_filename, 'wb'))\n",
    "dump(df.columns, open(labels_filename, 'wb'))\n"
   ]
  },
  {
   "cell_type": "markdown",
   "metadata": {},
   "source": [
    "# Modelling"
   ]
  },
  {
   "cell_type": "markdown",
   "metadata": {},
   "source": [
    "## Steps:\n",
    "1. Prepare relative fast-to-train model to check if data were prepared properly\n",
    "2. Prepare modelling by:\n",
    "- choose 3-5 models\n",
    "- prepare start set of models parameters"
   ]
  },
  {
   "cell_type": "markdown",
   "metadata": {},
   "source": [
    "#### simple potencialy efficient to check correctness of prepared data"
   ]
  },
  {
   "cell_type": "code",
   "execution_count": 290,
   "metadata": {},
   "outputs": [],
   "source": [
    "from sklearn.ensemble import RandomForestClassifier\n",
    "from sklearn.model_selection import train_test_split\n",
    "from sklearn.metrics import classification_report, accuracy_score\n",
    "\n",
    "# y =  \n",
    "#train_data[:,0].astype('int')\n",
    "X_train, X_test, y_train, y_test = train_test_split(preproc_sklearn[:,1:],preproc_sklearn[:,0].astype('int')) # column Transported were moved to first position\n"
   ]
  },
  {
   "cell_type": "code",
   "execution_count": 291,
   "metadata": {},
   "outputs": [
    {
     "name": "stdout",
     "output_type": "stream",
     "text": [
      "0.7736077481840193\n",
      "---------\n",
      "              precision    recall  f1-score   support\n",
      "\n",
      "           0       0.75      0.81      0.78       819\n",
      "           1       0.80      0.74      0.77       833\n",
      "\n",
      "    accuracy                           0.77      1652\n",
      "   macro avg       0.78      0.77      0.77      1652\n",
      "weighted avg       0.78      0.77      0.77      1652\n",
      "\n"
     ]
    }
   ],
   "source": [
    "clf = RandomForestClassifier(random_state=0)\n",
    "clf.fit(X_train, y_train)\n",
    "y_pred = clf.predict(X_test)\n",
    "\n",
    "print(accuracy_score(y_test, y_pred))\n",
    "print(\"---------\")\n",
    "print(classification_report(y_test, y_pred))"
   ]
  },
  {
   "cell_type": "markdown",
   "metadata": {},
   "source": [
    "[Conclusion] data were processed smoothly so dataset is ready to be train set"
   ]
  },
  {
   "cell_type": "markdown",
   "metadata": {},
   "source": [
    "## Model preparation\n",
    "Choosen models:\n",
    "1. Logistic regession - as quite simple model is good to check data potential for modelling\n",
    "2. Decision Tree - easy explainability \n",
    "3. Gradient Tree Boosting - as one of ensebmle methods could avoid model overfitting "
   ]
  },
  {
   "cell_type": "code",
   "execution_count": 295,
   "metadata": {},
   "outputs": [],
   "source": [
    "# import models\n",
    "from sklearn.linear_model import LogisticRegression\n",
    "from sklearn.tree import DecisionTreeClassifier\n",
    "from sklearn.ensemble import GradientBoostingClassifier\n",
    "from sklearn.model_selection import GridSearchCV\n",
    "import time # to check duration of training"
   ]
  },
  {
   "cell_type": "markdown",
   "metadata": {},
   "source": [
    "### Tuning hiperparameters\n",
    " for choosing the best parameters sets for particular technique at the beggining grid search will be executed for each models separately, only because more control for execution time"
   ]
  },
  {
   "cell_type": "markdown",
   "metadata": {},
   "source": [
    "# [way of thinking] [function]\n",
    "for all model there will be done the same step. The differences are only kind of model and parameters, so these two should be input in function (apart from data)"
   ]
  },
  {
   "cell_type": "code",
   "execution_count": 298,
   "metadata": {},
   "outputs": [],
   "source": [
    "def make_classification(clf, parameters, X_train, y_train, X_test, y_test):\n",
    "    start_time= time.time()\n",
    "    GS_model = GridSearchCV(clf, parameters).fit(X_train,y_train) \n",
    "    print(\"Trainig duration: {0} seconds\".format(time.time()-start_time))\n",
    "    print(\"The best estimator: {0} \\n The best score: {1}\".format(GS_model.best_estimator_, GS_model.best_score_))\n",
    "\n",
    "    predicted_values = GS_model.predict(X_test)\n",
    "    print(\"-------------- Scores for test set --------------\")\n",
    "    print(\"Accuracy: {0} \\n Classifiaction report: {1}\".format(accuracy_score(predicted_values, y_test), classification_report(predicted_values, y_test)))\n",
    "\n",
    "    return GS_model, predicted_values"
   ]
  },
  {
   "cell_type": "code",
   "execution_count": 306,
   "metadata": {},
   "outputs": [
    {
     "name": "stderr",
     "output_type": "stream",
     "text": [
      "c:\\project_repos\\kaggle_spaceship_titanic\\venv_k_spaceship_titanic\\lib\\site-packages\\sklearn\\linear_model\\_sag.py:350: ConvergenceWarning: The max_iter was reached which means the coef_ did not converge\n",
      "  warnings.warn(\n",
      "c:\\project_repos\\kaggle_spaceship_titanic\\venv_k_spaceship_titanic\\lib\\site-packages\\sklearn\\linear_model\\_sag.py:350: ConvergenceWarning: The max_iter was reached which means the coef_ did not converge\n",
      "  warnings.warn(\n",
      "c:\\project_repos\\kaggle_spaceship_titanic\\venv_k_spaceship_titanic\\lib\\site-packages\\sklearn\\linear_model\\_sag.py:350: ConvergenceWarning: The max_iter was reached which means the coef_ did not converge\n",
      "  warnings.warn(\n",
      "c:\\project_repos\\kaggle_spaceship_titanic\\venv_k_spaceship_titanic\\lib\\site-packages\\sklearn\\linear_model\\_sag.py:350: ConvergenceWarning: The max_iter was reached which means the coef_ did not converge\n",
      "  warnings.warn(\n",
      "c:\\project_repos\\kaggle_spaceship_titanic\\venv_k_spaceship_titanic\\lib\\site-packages\\sklearn\\linear_model\\_sag.py:350: ConvergenceWarning: The max_iter was reached which means the coef_ did not converge\n",
      "  warnings.warn(\n",
      "c:\\project_repos\\kaggle_spaceship_titanic\\venv_k_spaceship_titanic\\lib\\site-packages\\sklearn\\linear_model\\_sag.py:350: ConvergenceWarning: The max_iter was reached which means the coef_ did not converge\n",
      "  warnings.warn(\n",
      "c:\\project_repos\\kaggle_spaceship_titanic\\venv_k_spaceship_titanic\\lib\\site-packages\\sklearn\\linear_model\\_sag.py:350: ConvergenceWarning: The max_iter was reached which means the coef_ did not converge\n",
      "  warnings.warn(\n",
      "c:\\project_repos\\kaggle_spaceship_titanic\\venv_k_spaceship_titanic\\lib\\site-packages\\sklearn\\linear_model\\_sag.py:350: ConvergenceWarning: The max_iter was reached which means the coef_ did not converge\n",
      "  warnings.warn(\n",
      "c:\\project_repos\\kaggle_spaceship_titanic\\venv_k_spaceship_titanic\\lib\\site-packages\\sklearn\\linear_model\\_sag.py:350: ConvergenceWarning: The max_iter was reached which means the coef_ did not converge\n",
      "  warnings.warn(\n",
      "c:\\project_repos\\kaggle_spaceship_titanic\\venv_k_spaceship_titanic\\lib\\site-packages\\sklearn\\linear_model\\_sag.py:350: ConvergenceWarning: The max_iter was reached which means the coef_ did not converge\n",
      "  warnings.warn(\n",
      "c:\\project_repos\\kaggle_spaceship_titanic\\venv_k_spaceship_titanic\\lib\\site-packages\\sklearn\\linear_model\\_sag.py:350: ConvergenceWarning: The max_iter was reached which means the coef_ did not converge\n",
      "  warnings.warn(\n",
      "c:\\project_repos\\kaggle_spaceship_titanic\\venv_k_spaceship_titanic\\lib\\site-packages\\sklearn\\linear_model\\_sag.py:350: ConvergenceWarning: The max_iter was reached which means the coef_ did not converge\n",
      "  warnings.warn(\n",
      "c:\\project_repos\\kaggle_spaceship_titanic\\venv_k_spaceship_titanic\\lib\\site-packages\\sklearn\\linear_model\\_sag.py:350: ConvergenceWarning: The max_iter was reached which means the coef_ did not converge\n",
      "  warnings.warn(\n",
      "c:\\project_repos\\kaggle_spaceship_titanic\\venv_k_spaceship_titanic\\lib\\site-packages\\sklearn\\linear_model\\_sag.py:350: ConvergenceWarning: The max_iter was reached which means the coef_ did not converge\n",
      "  warnings.warn(\n",
      "c:\\project_repos\\kaggle_spaceship_titanic\\venv_k_spaceship_titanic\\lib\\site-packages\\sklearn\\linear_model\\_sag.py:350: ConvergenceWarning: The max_iter was reached which means the coef_ did not converge\n",
      "  warnings.warn(\n",
      "c:\\project_repos\\kaggle_spaceship_titanic\\venv_k_spaceship_titanic\\lib\\site-packages\\sklearn\\linear_model\\_sag.py:350: ConvergenceWarning: The max_iter was reached which means the coef_ did not converge\n",
      "  warnings.warn(\n",
      "c:\\project_repos\\kaggle_spaceship_titanic\\venv_k_spaceship_titanic\\lib\\site-packages\\sklearn\\linear_model\\_sag.py:350: ConvergenceWarning: The max_iter was reached which means the coef_ did not converge\n",
      "  warnings.warn(\n",
      "c:\\project_repos\\kaggle_spaceship_titanic\\venv_k_spaceship_titanic\\lib\\site-packages\\sklearn\\linear_model\\_sag.py:350: ConvergenceWarning: The max_iter was reached which means the coef_ did not converge\n",
      "  warnings.warn(\n",
      "c:\\project_repos\\kaggle_spaceship_titanic\\venv_k_spaceship_titanic\\lib\\site-packages\\sklearn\\linear_model\\_sag.py:350: ConvergenceWarning: The max_iter was reached which means the coef_ did not converge\n",
      "  warnings.warn(\n",
      "c:\\project_repos\\kaggle_spaceship_titanic\\venv_k_spaceship_titanic\\lib\\site-packages\\sklearn\\linear_model\\_sag.py:350: ConvergenceWarning: The max_iter was reached which means the coef_ did not converge\n",
      "  warnings.warn(\n",
      "c:\\project_repos\\kaggle_spaceship_titanic\\venv_k_spaceship_titanic\\lib\\site-packages\\sklearn\\linear_model\\_sag.py:350: ConvergenceWarning: The max_iter was reached which means the coef_ did not converge\n",
      "  warnings.warn(\n",
      "c:\\project_repos\\kaggle_spaceship_titanic\\venv_k_spaceship_titanic\\lib\\site-packages\\sklearn\\linear_model\\_sag.py:350: ConvergenceWarning: The max_iter was reached which means the coef_ did not converge\n",
      "  warnings.warn(\n",
      "c:\\project_repos\\kaggle_spaceship_titanic\\venv_k_spaceship_titanic\\lib\\site-packages\\sklearn\\linear_model\\_sag.py:350: ConvergenceWarning: The max_iter was reached which means the coef_ did not converge\n",
      "  warnings.warn(\n",
      "c:\\project_repos\\kaggle_spaceship_titanic\\venv_k_spaceship_titanic\\lib\\site-packages\\sklearn\\linear_model\\_sag.py:350: ConvergenceWarning: The max_iter was reached which means the coef_ did not converge\n",
      "  warnings.warn(\n",
      "c:\\project_repos\\kaggle_spaceship_titanic\\venv_k_spaceship_titanic\\lib\\site-packages\\sklearn\\linear_model\\_sag.py:350: ConvergenceWarning: The max_iter was reached which means the coef_ did not converge\n",
      "  warnings.warn(\n",
      "c:\\project_repos\\kaggle_spaceship_titanic\\venv_k_spaceship_titanic\\lib\\site-packages\\sklearn\\linear_model\\_sag.py:350: ConvergenceWarning: The max_iter was reached which means the coef_ did not converge\n",
      "  warnings.warn(\n",
      "c:\\project_repos\\kaggle_spaceship_titanic\\venv_k_spaceship_titanic\\lib\\site-packages\\sklearn\\linear_model\\_sag.py:350: ConvergenceWarning: The max_iter was reached which means the coef_ did not converge\n",
      "  warnings.warn(\n",
      "c:\\project_repos\\kaggle_spaceship_titanic\\venv_k_spaceship_titanic\\lib\\site-packages\\sklearn\\linear_model\\_sag.py:350: ConvergenceWarning: The max_iter was reached which means the coef_ did not converge\n",
      "  warnings.warn(\n",
      "c:\\project_repos\\kaggle_spaceship_titanic\\venv_k_spaceship_titanic\\lib\\site-packages\\sklearn\\linear_model\\_sag.py:350: ConvergenceWarning: The max_iter was reached which means the coef_ did not converge\n",
      "  warnings.warn(\n",
      "c:\\project_repos\\kaggle_spaceship_titanic\\venv_k_spaceship_titanic\\lib\\site-packages\\sklearn\\linear_model\\_sag.py:350: ConvergenceWarning: The max_iter was reached which means the coef_ did not converge\n",
      "  warnings.warn(\n",
      "c:\\project_repos\\kaggle_spaceship_titanic\\venv_k_spaceship_titanic\\lib\\site-packages\\sklearn\\linear_model\\_sag.py:350: ConvergenceWarning: The max_iter was reached which means the coef_ did not converge\n",
      "  warnings.warn(\n",
      "c:\\project_repos\\kaggle_spaceship_titanic\\venv_k_spaceship_titanic\\lib\\site-packages\\sklearn\\linear_model\\_sag.py:350: ConvergenceWarning: The max_iter was reached which means the coef_ did not converge\n",
      "  warnings.warn(\n",
      "c:\\project_repos\\kaggle_spaceship_titanic\\venv_k_spaceship_titanic\\lib\\site-packages\\sklearn\\linear_model\\_sag.py:350: ConvergenceWarning: The max_iter was reached which means the coef_ did not converge\n",
      "  warnings.warn(\n",
      "c:\\project_repos\\kaggle_spaceship_titanic\\venv_k_spaceship_titanic\\lib\\site-packages\\sklearn\\linear_model\\_sag.py:350: ConvergenceWarning: The max_iter was reached which means the coef_ did not converge\n",
      "  warnings.warn(\n",
      "c:\\project_repos\\kaggle_spaceship_titanic\\venv_k_spaceship_titanic\\lib\\site-packages\\sklearn\\linear_model\\_sag.py:350: ConvergenceWarning: The max_iter was reached which means the coef_ did not converge\n",
      "  warnings.warn(\n",
      "c:\\project_repos\\kaggle_spaceship_titanic\\venv_k_spaceship_titanic\\lib\\site-packages\\sklearn\\linear_model\\_sag.py:350: ConvergenceWarning: The max_iter was reached which means the coef_ did not converge\n",
      "  warnings.warn(\n",
      "c:\\project_repos\\kaggle_spaceship_titanic\\venv_k_spaceship_titanic\\lib\\site-packages\\sklearn\\linear_model\\_sag.py:350: ConvergenceWarning: The max_iter was reached which means the coef_ did not converge\n",
      "  warnings.warn(\n",
      "c:\\project_repos\\kaggle_spaceship_titanic\\venv_k_spaceship_titanic\\lib\\site-packages\\sklearn\\linear_model\\_sag.py:350: ConvergenceWarning: The max_iter was reached which means the coef_ did not converge\n",
      "  warnings.warn(\n",
      "c:\\project_repos\\kaggle_spaceship_titanic\\venv_k_spaceship_titanic\\lib\\site-packages\\sklearn\\linear_model\\_sag.py:350: ConvergenceWarning: The max_iter was reached which means the coef_ did not converge\n",
      "  warnings.warn(\n",
      "c:\\project_repos\\kaggle_spaceship_titanic\\venv_k_spaceship_titanic\\lib\\site-packages\\sklearn\\linear_model\\_sag.py:350: ConvergenceWarning: The max_iter was reached which means the coef_ did not converge\n",
      "  warnings.warn(\n",
      "c:\\project_repos\\kaggle_spaceship_titanic\\venv_k_spaceship_titanic\\lib\\site-packages\\sklearn\\linear_model\\_sag.py:350: ConvergenceWarning: The max_iter was reached which means the coef_ did not converge\n",
      "  warnings.warn(\n",
      "c:\\project_repos\\kaggle_spaceship_titanic\\venv_k_spaceship_titanic\\lib\\site-packages\\sklearn\\linear_model\\_sag.py:350: ConvergenceWarning: The max_iter was reached which means the coef_ did not converge\n",
      "  warnings.warn(\n",
      "c:\\project_repos\\kaggle_spaceship_titanic\\venv_k_spaceship_titanic\\lib\\site-packages\\sklearn\\linear_model\\_sag.py:350: ConvergenceWarning: The max_iter was reached which means the coef_ did not converge\n",
      "  warnings.warn(\n",
      "c:\\project_repos\\kaggle_spaceship_titanic\\venv_k_spaceship_titanic\\lib\\site-packages\\sklearn\\linear_model\\_sag.py:350: ConvergenceWarning: The max_iter was reached which means the coef_ did not converge\n",
      "  warnings.warn(\n",
      "c:\\project_repos\\kaggle_spaceship_titanic\\venv_k_spaceship_titanic\\lib\\site-packages\\sklearn\\linear_model\\_sag.py:350: ConvergenceWarning: The max_iter was reached which means the coef_ did not converge\n",
      "  warnings.warn(\n",
      "c:\\project_repos\\kaggle_spaceship_titanic\\venv_k_spaceship_titanic\\lib\\site-packages\\sklearn\\linear_model\\_sag.py:350: ConvergenceWarning: The max_iter was reached which means the coef_ did not converge\n",
      "  warnings.warn(\n",
      "c:\\project_repos\\kaggle_spaceship_titanic\\venv_k_spaceship_titanic\\lib\\site-packages\\sklearn\\linear_model\\_sag.py:350: ConvergenceWarning: The max_iter was reached which means the coef_ did not converge\n",
      "  warnings.warn(\n",
      "c:\\project_repos\\kaggle_spaceship_titanic\\venv_k_spaceship_titanic\\lib\\site-packages\\sklearn\\linear_model\\_sag.py:350: ConvergenceWarning: The max_iter was reached which means the coef_ did not converge\n",
      "  warnings.warn(\n",
      "c:\\project_repos\\kaggle_spaceship_titanic\\venv_k_spaceship_titanic\\lib\\site-packages\\sklearn\\linear_model\\_sag.py:350: ConvergenceWarning: The max_iter was reached which means the coef_ did not converge\n",
      "  warnings.warn(\n",
      "c:\\project_repos\\kaggle_spaceship_titanic\\venv_k_spaceship_titanic\\lib\\site-packages\\sklearn\\linear_model\\_sag.py:350: ConvergenceWarning: The max_iter was reached which means the coef_ did not converge\n",
      "  warnings.warn(\n",
      "c:\\project_repos\\kaggle_spaceship_titanic\\venv_k_spaceship_titanic\\lib\\site-packages\\sklearn\\linear_model\\_sag.py:350: ConvergenceWarning: The max_iter was reached which means the coef_ did not converge\n",
      "  warnings.warn(\n",
      "c:\\project_repos\\kaggle_spaceship_titanic\\venv_k_spaceship_titanic\\lib\\site-packages\\sklearn\\linear_model\\_sag.py:350: ConvergenceWarning: The max_iter was reached which means the coef_ did not converge\n",
      "  warnings.warn(\n",
      "c:\\project_repos\\kaggle_spaceship_titanic\\venv_k_spaceship_titanic\\lib\\site-packages\\sklearn\\linear_model\\_sag.py:350: ConvergenceWarning: The max_iter was reached which means the coef_ did not converge\n",
      "  warnings.warn(\n",
      "c:\\project_repos\\kaggle_spaceship_titanic\\venv_k_spaceship_titanic\\lib\\site-packages\\sklearn\\linear_model\\_sag.py:350: ConvergenceWarning: The max_iter was reached which means the coef_ did not converge\n",
      "  warnings.warn(\n",
      "c:\\project_repos\\kaggle_spaceship_titanic\\venv_k_spaceship_titanic\\lib\\site-packages\\sklearn\\linear_model\\_sag.py:350: ConvergenceWarning: The max_iter was reached which means the coef_ did not converge\n",
      "  warnings.warn(\n",
      "c:\\project_repos\\kaggle_spaceship_titanic\\venv_k_spaceship_titanic\\lib\\site-packages\\sklearn\\linear_model\\_sag.py:350: ConvergenceWarning: The max_iter was reached which means the coef_ did not converge\n",
      "  warnings.warn(\n",
      "c:\\project_repos\\kaggle_spaceship_titanic\\venv_k_spaceship_titanic\\lib\\site-packages\\sklearn\\linear_model\\_sag.py:350: ConvergenceWarning: The max_iter was reached which means the coef_ did not converge\n",
      "  warnings.warn(\n",
      "c:\\project_repos\\kaggle_spaceship_titanic\\venv_k_spaceship_titanic\\lib\\site-packages\\sklearn\\linear_model\\_sag.py:350: ConvergenceWarning: The max_iter was reached which means the coef_ did not converge\n",
      "  warnings.warn(\n",
      "c:\\project_repos\\kaggle_spaceship_titanic\\venv_k_spaceship_titanic\\lib\\site-packages\\sklearn\\linear_model\\_sag.py:350: ConvergenceWarning: The max_iter was reached which means the coef_ did not converge\n",
      "  warnings.warn(\n",
      "c:\\project_repos\\kaggle_spaceship_titanic\\venv_k_spaceship_titanic\\lib\\site-packages\\sklearn\\linear_model\\_sag.py:350: ConvergenceWarning: The max_iter was reached which means the coef_ did not converge\n",
      "  warnings.warn(\n",
      "c:\\project_repos\\kaggle_spaceship_titanic\\venv_k_spaceship_titanic\\lib\\site-packages\\sklearn\\linear_model\\_sag.py:350: ConvergenceWarning: The max_iter was reached which means the coef_ did not converge\n",
      "  warnings.warn(\n",
      "c:\\project_repos\\kaggle_spaceship_titanic\\venv_k_spaceship_titanic\\lib\\site-packages\\sklearn\\linear_model\\_sag.py:350: ConvergenceWarning: The max_iter was reached which means the coef_ did not converge\n",
      "  warnings.warn(\n",
      "c:\\project_repos\\kaggle_spaceship_titanic\\venv_k_spaceship_titanic\\lib\\site-packages\\sklearn\\linear_model\\_sag.py:350: ConvergenceWarning: The max_iter was reached which means the coef_ did not converge\n",
      "  warnings.warn(\n",
      "c:\\project_repos\\kaggle_spaceship_titanic\\venv_k_spaceship_titanic\\lib\\site-packages\\sklearn\\linear_model\\_sag.py:350: ConvergenceWarning: The max_iter was reached which means the coef_ did not converge\n",
      "  warnings.warn(\n",
      "c:\\project_repos\\kaggle_spaceship_titanic\\venv_k_spaceship_titanic\\lib\\site-packages\\sklearn\\linear_model\\_sag.py:350: ConvergenceWarning: The max_iter was reached which means the coef_ did not converge\n",
      "  warnings.warn(\n",
      "c:\\project_repos\\kaggle_spaceship_titanic\\venv_k_spaceship_titanic\\lib\\site-packages\\sklearn\\linear_model\\_sag.py:350: ConvergenceWarning: The max_iter was reached which means the coef_ did not converge\n",
      "  warnings.warn(\n",
      "c:\\project_repos\\kaggle_spaceship_titanic\\venv_k_spaceship_titanic\\lib\\site-packages\\sklearn\\linear_model\\_sag.py:350: ConvergenceWarning: The max_iter was reached which means the coef_ did not converge\n",
      "  warnings.warn(\n",
      "c:\\project_repos\\kaggle_spaceship_titanic\\venv_k_spaceship_titanic\\lib\\site-packages\\sklearn\\linear_model\\_sag.py:350: ConvergenceWarning: The max_iter was reached which means the coef_ did not converge\n",
      "  warnings.warn(\n",
      "c:\\project_repos\\kaggle_spaceship_titanic\\venv_k_spaceship_titanic\\lib\\site-packages\\sklearn\\linear_model\\_sag.py:350: ConvergenceWarning: The max_iter was reached which means the coef_ did not converge\n",
      "  warnings.warn(\n",
      "c:\\project_repos\\kaggle_spaceship_titanic\\venv_k_spaceship_titanic\\lib\\site-packages\\sklearn\\linear_model\\_sag.py:350: ConvergenceWarning: The max_iter was reached which means the coef_ did not converge\n",
      "  warnings.warn(\n",
      "c:\\project_repos\\kaggle_spaceship_titanic\\venv_k_spaceship_titanic\\lib\\site-packages\\sklearn\\linear_model\\_sag.py:350: ConvergenceWarning: The max_iter was reached which means the coef_ did not converge\n",
      "  warnings.warn(\n",
      "c:\\project_repos\\kaggle_spaceship_titanic\\venv_k_spaceship_titanic\\lib\\site-packages\\sklearn\\linear_model\\_sag.py:350: ConvergenceWarning: The max_iter was reached which means the coef_ did not converge\n",
      "  warnings.warn(\n",
      "c:\\project_repos\\kaggle_spaceship_titanic\\venv_k_spaceship_titanic\\lib\\site-packages\\sklearn\\linear_model\\_sag.py:350: ConvergenceWarning: The max_iter was reached which means the coef_ did not converge\n",
      "  warnings.warn(\n",
      "c:\\project_repos\\kaggle_spaceship_titanic\\venv_k_spaceship_titanic\\lib\\site-packages\\sklearn\\linear_model\\_sag.py:350: ConvergenceWarning: The max_iter was reached which means the coef_ did not converge\n",
      "  warnings.warn(\n",
      "c:\\project_repos\\kaggle_spaceship_titanic\\venv_k_spaceship_titanic\\lib\\site-packages\\sklearn\\linear_model\\_sag.py:350: ConvergenceWarning: The max_iter was reached which means the coef_ did not converge\n",
      "  warnings.warn(\n",
      "c:\\project_repos\\kaggle_spaceship_titanic\\venv_k_spaceship_titanic\\lib\\site-packages\\sklearn\\linear_model\\_sag.py:350: ConvergenceWarning: The max_iter was reached which means the coef_ did not converge\n",
      "  warnings.warn(\n",
      "c:\\project_repos\\kaggle_spaceship_titanic\\venv_k_spaceship_titanic\\lib\\site-packages\\sklearn\\linear_model\\_sag.py:350: ConvergenceWarning: The max_iter was reached which means the coef_ did not converge\n",
      "  warnings.warn(\n",
      "c:\\project_repos\\kaggle_spaceship_titanic\\venv_k_spaceship_titanic\\lib\\site-packages\\sklearn\\linear_model\\_sag.py:350: ConvergenceWarning: The max_iter was reached which means the coef_ did not converge\n",
      "  warnings.warn(\n",
      "c:\\project_repos\\kaggle_spaceship_titanic\\venv_k_spaceship_titanic\\lib\\site-packages\\sklearn\\linear_model\\_sag.py:350: ConvergenceWarning: The max_iter was reached which means the coef_ did not converge\n",
      "  warnings.warn(\n",
      "c:\\project_repos\\kaggle_spaceship_titanic\\venv_k_spaceship_titanic\\lib\\site-packages\\sklearn\\linear_model\\_sag.py:350: ConvergenceWarning: The max_iter was reached which means the coef_ did not converge\n",
      "  warnings.warn(\n",
      "c:\\project_repos\\kaggle_spaceship_titanic\\venv_k_spaceship_titanic\\lib\\site-packages\\sklearn\\linear_model\\_sag.py:350: ConvergenceWarning: The max_iter was reached which means the coef_ did not converge\n",
      "  warnings.warn(\n",
      "c:\\project_repos\\kaggle_spaceship_titanic\\venv_k_spaceship_titanic\\lib\\site-packages\\sklearn\\linear_model\\_sag.py:350: ConvergenceWarning: The max_iter was reached which means the coef_ did not converge\n",
      "  warnings.warn(\n",
      "c:\\project_repos\\kaggle_spaceship_titanic\\venv_k_spaceship_titanic\\lib\\site-packages\\sklearn\\linear_model\\_sag.py:350: ConvergenceWarning: The max_iter was reached which means the coef_ did not converge\n",
      "  warnings.warn(\n",
      "c:\\project_repos\\kaggle_spaceship_titanic\\venv_k_spaceship_titanic\\lib\\site-packages\\sklearn\\linear_model\\_sag.py:350: ConvergenceWarning: The max_iter was reached which means the coef_ did not converge\n",
      "  warnings.warn(\n",
      "c:\\project_repos\\kaggle_spaceship_titanic\\venv_k_spaceship_titanic\\lib\\site-packages\\sklearn\\linear_model\\_sag.py:350: ConvergenceWarning: The max_iter was reached which means the coef_ did not converge\n",
      "  warnings.warn(\n",
      "c:\\project_repos\\kaggle_spaceship_titanic\\venv_k_spaceship_titanic\\lib\\site-packages\\sklearn\\linear_model\\_sag.py:350: ConvergenceWarning: The max_iter was reached which means the coef_ did not converge\n",
      "  warnings.warn(\n",
      "c:\\project_repos\\kaggle_spaceship_titanic\\venv_k_spaceship_titanic\\lib\\site-packages\\sklearn\\linear_model\\_sag.py:350: ConvergenceWarning: The max_iter was reached which means the coef_ did not converge\n",
      "  warnings.warn(\n",
      "c:\\project_repos\\kaggle_spaceship_titanic\\venv_k_spaceship_titanic\\lib\\site-packages\\sklearn\\linear_model\\_sag.py:350: ConvergenceWarning: The max_iter was reached which means the coef_ did not converge\n",
      "  warnings.warn(\n",
      "c:\\project_repos\\kaggle_spaceship_titanic\\venv_k_spaceship_titanic\\lib\\site-packages\\sklearn\\linear_model\\_sag.py:350: ConvergenceWarning: The max_iter was reached which means the coef_ did not converge\n",
      "  warnings.warn(\n"
     ]
    },
    {
     "name": "stdout",
     "output_type": "stream",
     "text": [
      "Trainig duration: 199.35259556770325 seconds\n",
      "The best estimator: LogisticRegression(C=100, penalty='l1', random_state=0, solver='liblinear') \n",
      " The best score: 0.8052070656106982\n",
      "-------------- Scores for test set --------------\n",
      "Accuracy: 0.7784503631961259 \n",
      " Classifiaction report:               precision    recall  f1-score   support\n",
      "\n",
      "           0       0.74      0.80      0.77       765\n",
      "           1       0.81      0.76      0.79       887\n",
      "\n",
      "    accuracy                           0.78      1652\n",
      "   macro avg       0.78      0.78      0.78      1652\n",
      "weighted avg       0.78      0.78      0.78      1652\n",
      "\n"
     ]
    },
    {
     "name": "stderr",
     "output_type": "stream",
     "text": [
      "c:\\project_repos\\kaggle_spaceship_titanic\\venv_k_spaceship_titanic\\lib\\site-packages\\sklearn\\linear_model\\_sag.py:350: ConvergenceWarning: The max_iter was reached which means the coef_ did not converge\n",
      "  warnings.warn(\n"
     ]
    }
   ],
   "source": [
    "clf_LR = LogisticRegression(random_state=0)\n",
    "parameters_LR = {'penalty' : ['l1', 'l2'],\n",
    "    'C' : [1, 10, 100], #range(1, 100, 10),\n",
    "    'max_iter': [100,500,1000],\n",
    "    'solver' : ['liblinear', 'saga'] # liblinear and saga solver is only one which supports L1 and L2 regularization\n",
    "    }\n",
    "\n",
    "model_DT, prediction_DT = make_classification(clf_LR, parameters_LR, X_train, y_train, X_test, y_test)\n"
   ]
  },
  {
   "cell_type": "code",
   "execution_count": 279,
   "metadata": {},
   "outputs": [
    {
     "name": "stdout",
     "output_type": "stream",
     "text": [
      "DecisionTreeClassifier(max_depth=10, min_samples_leaf=20, random_state=0)\n",
      "0.7862351058516548\n",
      "0.7929782082324455\n",
      "------\n",
      "              precision    recall  f1-score   support\n",
      "\n",
      "           0       0.81      0.80      0.80       870\n",
      "           1       0.78      0.79      0.78       782\n",
      "\n",
      "    accuracy                           0.79      1652\n",
      "   macro avg       0.79      0.79      0.79      1652\n",
      "weighted avg       0.79      0.79      0.79      1652\n",
      "\n"
     ]
    },
    {
     "data": {
      "text/plain": [
       "(GridSearchCV(estimator=DecisionTreeClassifier(random_state=0),\n",
       "              param_grid={'max_depth': [10, 50, 100, 150],\n",
       "                          'min_samples_leaf': [8, 12, 16, 20]}),\n",
       " array([1, 1, 1, ..., 0, 1, 1]))"
      ]
     },
     "execution_count": 279,
     "metadata": {},
     "output_type": "execute_result"
    }
   ],
   "source": [
    "clf_DT =  DecisionTreeClassifier(random_state=0)\n",
    "parameters_DT = {'max_depth': [10, 50, 100, 150],\n",
    "    'min_samples_leaf': [8, 12, 16, 20]} # may prevent from overfitting \n",
    "model_DT, prediction_DT = make_classification(clf_DT, parameters_DT, X_train, y_train, X_test, y_test)\n",
    "#grid_search_DT = GridSearchCV(clf_DT, parameters_DT).fit(X_train,y_train) "
   ]
  },
  {
   "cell_type": "code",
   "execution_count": 284,
   "metadata": {},
   "outputs": [
    {
     "name": "stdout",
     "output_type": "stream",
     "text": [
      "GradientBoostingClassifier(max_depth=10, n_estimators=200, random_state=0)\n",
      "0.8001624723521796\n",
      "0.7953995157384988\n",
      "------\n",
      "              precision    recall  f1-score   support\n",
      "\n",
      "           0       0.81      0.80      0.80       866\n",
      "           1       0.78      0.79      0.79       786\n",
      "\n",
      "    accuracy                           0.80      1652\n",
      "   macro avg       0.79      0.80      0.80      1652\n",
      "weighted avg       0.80      0.80      0.80      1652\n",
      "\n"
     ]
    }
   ],
   "source": [
    "clf_GBC = GradientBoostingClassifier(random_state=0)\n",
    "parameters_GBC = {'learning_rate': [0.001, 0.01, 0.1, 0.2],\n",
    "                'n_estimators': [10, 50, 100, 200],\n",
    "                #'subsample': [0.1, 0.5, 1],\n",
    "                'max_depth': [10, 50, 100, 150]} #  reduction of variance and an increase in bias\n",
    "model_GBC, prediction_GBC = make_classification(clf_GBC, parameters_GBC, X_train, y_train, X_test, y_test)"
   ]
  },
  {
   "cell_type": "code",
   "execution_count": 289,
   "metadata": {},
   "outputs": [
    {
     "name": "stdout",
     "output_type": "stream",
     "text": [
      "GradientBoostingClassifier(max_depth=10, n_estimators=200, random_state=0)\n"
     ]
    }
   ],
   "source": [
    "print(model_GBC.best_estimator_)"
   ]
  },
  {
   "cell_type": "markdown",
   "metadata": {},
   "source": [
    "# Evaluation\n",
    "the best features?"
   ]
  },
  {
   "cell_type": "markdown",
   "metadata": {},
   "source": [
    "# Deployment\n",
    "Save a model"
   ]
  },
  {
   "cell_type": "markdown",
   "metadata": {},
   "source": [
    "## Table of Contents\n",
    "https://linuxhint.com/add-table-contents-jupyter-notebook/"
   ]
  }
 ],
 "metadata": {
  "interpreter": {
   "hash": "4e12abc65b42fa1fd57e7377897f8627477d1050c22693b8ec5d8c1e76d04cf1"
  },
  "kernelspec": {
   "display_name": "Python 3.8.7 ('venv_k_spaceship_titanic': venv)",
   "language": "python",
   "name": "python3"
  },
  "language_info": {
   "codemirror_mode": {
    "name": "ipython",
    "version": 3
   },
   "file_extension": ".py",
   "mimetype": "text/x-python",
   "name": "python",
   "nbconvert_exporter": "python",
   "pygments_lexer": "ipython3",
   "version": "3.8.7"
  },
  "orig_nbformat": 4
 },
 "nbformat": 4,
 "nbformat_minor": 2
}
